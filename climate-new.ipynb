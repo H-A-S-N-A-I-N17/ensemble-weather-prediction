{
 "cells": [
  {
   "cell_type": "code",
   "execution_count": 1,
   "metadata": {
    "_cell_guid": "b1076dfc-b9ad-4769-8c92-a6c4dae69d19",
    "_uuid": "8f2839f25d086af736a60e9eeb907d3b93b6e0e5",
    "execution": {
     "iopub.execute_input": "2024-12-29T06:07:34.032266Z",
     "iopub.status.busy": "2024-12-29T06:07:34.031849Z",
     "iopub.status.idle": "2024-12-29T06:07:34.435274Z",
     "shell.execute_reply": "2024-12-29T06:07:34.434028Z",
     "shell.execute_reply.started": "2024-12-29T06:07:34.032227Z"
    }
   },
   "outputs": [],
   "source": [
    "# This Python 3 environment comes with many helpful analytics libraries installed\n",
    "# It is defined by the kaggle/python Docker image: https://github.com/kaggle/docker-python\n",
    "# For example, here's several helpful packages to load\n",
    "\n",
    "import numpy as np # linear algebra\n",
    "import pandas as pd # data processing, CSV file I/O (e.g. pd.read_csv)\n",
    "\n",
    "# Input data files are available in the read-only \"../input/\" directory\n",
    "# For example, running this (by clicking run or pressing Shift+Enter) will list all files under the input directory\n",
    "\n",
    "import os\n",
    "for dirname, _, filenames in os.walk('/kaggle/input/w-eather/weatherHistory.csv'):\n",
    "    for filename in filenames:\n",
    "        print(os.path.join(dirname, filename))\n",
    "\n",
    "# You can write up to 20GB to the current directory (/kaggle/working/) that gets preserved as output when you create a version using \"Save & Run All\" \n",
    "# You can also write temporary files to /kaggle/temp/, but they won't be saved outside of the current session"
   ]
  },
  {
   "cell_type": "code",
   "execution_count": 2,
   "metadata": {
    "execution": {
     "iopub.execute_input": "2024-12-29T06:07:34.437816Z",
     "iopub.status.busy": "2024-12-29T06:07:34.437315Z",
     "iopub.status.idle": "2024-12-29T06:07:35.005362Z",
     "shell.execute_reply": "2024-12-29T06:07:35.004147Z",
     "shell.execute_reply.started": "2024-12-29T06:07:34.437786Z"
    }
   },
   "outputs": [],
   "source": [
    "file_path = '/kaggle/input/w-eather/weatherHistory.csv'\n",
    "\n",
    "dataframe = pd.read_csv(file_path)"
   ]
  },
  {
   "cell_type": "markdown",
   "metadata": {},
   "source": [
    "CHECKING FOR NULL , IF NULL EXIST DELETING OR TAKING ACTION "
   ]
  },
  {
   "cell_type": "code",
   "execution_count": 3,
   "metadata": {
    "execution": {
     "iopub.execute_input": "2024-12-29T06:07:35.007461Z",
     "iopub.status.busy": "2024-12-29T06:07:35.007177Z",
     "iopub.status.idle": "2024-12-29T06:07:35.046028Z",
     "shell.execute_reply": "2024-12-29T06:07:35.045091Z",
     "shell.execute_reply.started": "2024-12-29T06:07:35.007438Z"
    }
   },
   "outputs": [
    {
     "data": {
      "text/plain": [
       "Formatted Date                0\n",
       "Summary                       0\n",
       "Precip Type                 517\n",
       "Temperature (C)               0\n",
       "Apparent Temperature (C)      0\n",
       "Humidity                      0\n",
       "Wind Speed (km/h)             0\n",
       "Wind Bearing (degrees)        0\n",
       "Visibility (km)               0\n",
       "Loud Cover                    0\n",
       "Pressure (millibars)          0\n",
       "Daily Summary                 0\n",
       "dtype: int64"
      ]
     },
     "execution_count": 3,
     "metadata": {},
     "output_type": "execute_result"
    }
   ],
   "source": [
    "dataframe.isnull().sum()"
   ]
  },
  {
   "cell_type": "code",
   "execution_count": 4,
   "metadata": {
    "execution": {
     "iopub.execute_input": "2024-12-29T06:07:35.047297Z",
     "iopub.status.busy": "2024-12-29T06:07:35.047030Z",
     "iopub.status.idle": "2024-12-29T06:07:35.084940Z",
     "shell.execute_reply": "2024-12-29T06:07:35.083875Z",
     "shell.execute_reply.started": "2024-12-29T06:07:35.047275Z"
    }
   },
   "outputs": [],
   "source": [
    "dataframe.dropna(inplace=True)"
   ]
  },
  {
   "cell_type": "code",
   "execution_count": 5,
   "metadata": {
    "execution": {
     "iopub.execute_input": "2024-12-29T06:07:35.086468Z",
     "iopub.status.busy": "2024-12-29T06:07:35.086150Z",
     "iopub.status.idle": "2024-12-29T06:07:35.115172Z",
     "shell.execute_reply": "2024-12-29T06:07:35.114037Z",
     "shell.execute_reply.started": "2024-12-29T06:07:35.086440Z"
    }
   },
   "outputs": [
    {
     "data": {
      "text/plain": [
       "Formatted Date              0\n",
       "Summary                     0\n",
       "Precip Type                 0\n",
       "Temperature (C)             0\n",
       "Apparent Temperature (C)    0\n",
       "Humidity                    0\n",
       "Wind Speed (km/h)           0\n",
       "Wind Bearing (degrees)      0\n",
       "Visibility (km)             0\n",
       "Loud Cover                  0\n",
       "Pressure (millibars)        0\n",
       "Daily Summary               0\n",
       "dtype: int64"
      ]
     },
     "execution_count": 5,
     "metadata": {},
     "output_type": "execute_result"
    }
   ],
   "source": [
    "dataframe.isnull().sum()"
   ]
  },
  {
   "cell_type": "markdown",
   "metadata": {},
   "source": [
    "INFO BOUT THE DATASET"
   ]
  },
  {
   "cell_type": "code",
   "execution_count": 6,
   "metadata": {
    "execution": {
     "iopub.execute_input": "2024-12-29T06:07:35.118943Z",
     "iopub.status.busy": "2024-12-29T06:07:35.118544Z",
     "iopub.status.idle": "2024-12-29T06:07:35.165563Z",
     "shell.execute_reply": "2024-12-29T06:07:35.164184Z",
     "shell.execute_reply.started": "2024-12-29T06:07:35.118914Z"
    }
   },
   "outputs": [
    {
     "name": "stdout",
     "output_type": "stream",
     "text": [
      "<class 'pandas.core.frame.DataFrame'>\n",
      "Index: 95936 entries, 0 to 96452\n",
      "Data columns (total 12 columns):\n",
      " #   Column                    Non-Null Count  Dtype  \n",
      "---  ------                    --------------  -----  \n",
      " 0   Formatted Date            95936 non-null  object \n",
      " 1   Summary                   95936 non-null  object \n",
      " 2   Precip Type               95936 non-null  object \n",
      " 3   Temperature (C)           95936 non-null  float64\n",
      " 4   Apparent Temperature (C)  95936 non-null  float64\n",
      " 5   Humidity                  95936 non-null  float64\n",
      " 6   Wind Speed (km/h)         95936 non-null  float64\n",
      " 7   Wind Bearing (degrees)    95936 non-null  float64\n",
      " 8   Visibility (km)           95936 non-null  float64\n",
      " 9   Loud Cover                95936 non-null  float64\n",
      " 10  Pressure (millibars)      95936 non-null  float64\n",
      " 11  Daily Summary             95936 non-null  object \n",
      "dtypes: float64(8), object(4)\n",
      "memory usage: 9.5+ MB\n"
     ]
    }
   ],
   "source": [
    "dataframe.info()"
   ]
  },
  {
   "cell_type": "code",
   "execution_count": 7,
   "metadata": {
    "execution": {
     "iopub.execute_input": "2024-12-29T06:07:35.167956Z",
     "iopub.status.busy": "2024-12-29T06:07:35.167564Z",
     "iopub.status.idle": "2024-12-29T06:07:35.186065Z",
     "shell.execute_reply": "2024-12-29T06:07:35.184074Z",
     "shell.execute_reply.started": "2024-12-29T06:07:35.167927Z"
    }
   },
   "outputs": [],
   "source": [
    "dataframe=dataframe.drop(['Formatted Date','Wind Bearing (degrees)','Apparent Temperature (C)'],axis=1)"
   ]
  },
  {
   "cell_type": "code",
   "execution_count": 8,
   "metadata": {
    "execution": {
     "iopub.execute_input": "2024-12-29T06:07:35.187541Z",
     "iopub.status.busy": "2024-12-29T06:07:35.187222Z",
     "iopub.status.idle": "2024-12-29T06:07:35.216361Z",
     "shell.execute_reply": "2024-12-29T06:07:35.215181Z",
     "shell.execute_reply.started": "2024-12-29T06:07:35.187511Z"
    }
   },
   "outputs": [
    {
     "name": "stdout",
     "output_type": "stream",
     "text": [
      "<class 'pandas.core.frame.DataFrame'>\n",
      "Index: 95936 entries, 0 to 96452\n",
      "Data columns (total 9 columns):\n",
      " #   Column                Non-Null Count  Dtype  \n",
      "---  ------                --------------  -----  \n",
      " 0   Summary               95936 non-null  object \n",
      " 1   Precip Type           95936 non-null  object \n",
      " 2   Temperature (C)       95936 non-null  float64\n",
      " 3   Humidity              95936 non-null  float64\n",
      " 4   Wind Speed (km/h)     95936 non-null  float64\n",
      " 5   Visibility (km)       95936 non-null  float64\n",
      " 6   Loud Cover            95936 non-null  float64\n",
      " 7   Pressure (millibars)  95936 non-null  float64\n",
      " 8   Daily Summary         95936 non-null  object \n",
      "dtypes: float64(6), object(3)\n",
      "memory usage: 7.3+ MB\n"
     ]
    }
   ],
   "source": [
    "dataframe.info()"
   ]
  },
  {
   "cell_type": "markdown",
   "metadata": {},
   "source": [
    "IMPORTING PLOTING VISUALS LIBRARY"
   ]
  },
  {
   "cell_type": "code",
   "execution_count": 9,
   "metadata": {
    "execution": {
     "iopub.execute_input": "2024-12-29T06:07:35.218193Z",
     "iopub.status.busy": "2024-12-29T06:07:35.217616Z",
     "iopub.status.idle": "2024-12-29T06:07:36.161092Z",
     "shell.execute_reply": "2024-12-29T06:07:36.160027Z",
     "shell.execute_reply.started": "2024-12-29T06:07:35.218157Z"
    }
   },
   "outputs": [],
   "source": [
    "import matplotlib.pyplot as plt\n",
    "import seaborn as sns"
   ]
  },
  {
   "cell_type": "markdown",
   "metadata": {},
   "source": [
    "IMPORTING SCITLEARN LIBRARY "
   ]
  },
  {
   "cell_type": "code",
   "execution_count": 10,
   "metadata": {
    "execution": {
     "iopub.execute_input": "2024-12-29T06:07:36.163006Z",
     "iopub.status.busy": "2024-12-29T06:07:36.162374Z",
     "iopub.status.idle": "2024-12-29T06:08:38.418015Z",
     "shell.execute_reply": "2024-12-29T06:08:38.416787Z",
     "shell.execute_reply.started": "2024-12-29T06:07:36.162942Z"
    }
   },
   "outputs": [
    {
     "name": "stdout",
     "output_type": "stream",
     "text": [
      "Requirement already satisfied: scikit-learn in /usr/local/lib/python3.10/dist-packages (1.2.2)\n",
      "\u001b[33mWARNING: Retrying (Retry(total=4, connect=None, read=None, redirect=None, status=None)) after connection broken by 'NewConnectionError('<pip._vendor.urllib3.connection.HTTPSConnection object at 0x7ecc1169b580>: Failed to establish a new connection: [Errno -3] Temporary failure in name resolution')': /simple/scikit-learn/\u001b[0m\u001b[33m\n",
      "\u001b[0m^C\n"
     ]
    }
   ],
   "source": [
    "#n -m venv sklearn-env\n",
    "#sklearn-env\\Scripts\\activate  # activate\n",
    "!pip install -U scikit-learn"
   ]
  },
  {
   "cell_type": "code",
   "execution_count": 11,
   "metadata": {
    "execution": {
     "iopub.execute_input": "2024-12-29T06:08:38.419621Z",
     "iopub.status.busy": "2024-12-29T06:08:38.419323Z",
     "iopub.status.idle": "2024-12-29T06:08:38.445177Z",
     "shell.execute_reply": "2024-12-29T06:08:38.444085Z",
     "shell.execute_reply.started": "2024-12-29T06:08:38.419598Z"
    }
   },
   "outputs": [
    {
     "data": {
      "text/html": [
       "<div>\n",
       "<style scoped>\n",
       "    .dataframe tbody tr th:only-of-type {\n",
       "        vertical-align: middle;\n",
       "    }\n",
       "\n",
       "    .dataframe tbody tr th {\n",
       "        vertical-align: top;\n",
       "    }\n",
       "\n",
       "    .dataframe thead th {\n",
       "        text-align: right;\n",
       "    }\n",
       "</style>\n",
       "<table border=\"1\" class=\"dataframe\">\n",
       "  <thead>\n",
       "    <tr style=\"text-align: right;\">\n",
       "      <th></th>\n",
       "      <th>Summary</th>\n",
       "      <th>Precip Type</th>\n",
       "      <th>Temperature (C)</th>\n",
       "      <th>Humidity</th>\n",
       "      <th>Wind Speed (km/h)</th>\n",
       "      <th>Visibility (km)</th>\n",
       "      <th>Loud Cover</th>\n",
       "      <th>Pressure (millibars)</th>\n",
       "      <th>Daily Summary</th>\n",
       "    </tr>\n",
       "  </thead>\n",
       "  <tbody>\n",
       "    <tr>\n",
       "      <th>0</th>\n",
       "      <td>Partly Cloudy</td>\n",
       "      <td>rain</td>\n",
       "      <td>9.472222</td>\n",
       "      <td>0.89</td>\n",
       "      <td>14.1197</td>\n",
       "      <td>15.8263</td>\n",
       "      <td>0.0</td>\n",
       "      <td>1015.13</td>\n",
       "      <td>Partly cloudy throughout the day.</td>\n",
       "    </tr>\n",
       "    <tr>\n",
       "      <th>1</th>\n",
       "      <td>Partly Cloudy</td>\n",
       "      <td>rain</td>\n",
       "      <td>9.355556</td>\n",
       "      <td>0.86</td>\n",
       "      <td>14.2646</td>\n",
       "      <td>15.8263</td>\n",
       "      <td>0.0</td>\n",
       "      <td>1015.63</td>\n",
       "      <td>Partly cloudy throughout the day.</td>\n",
       "    </tr>\n",
       "    <tr>\n",
       "      <th>2</th>\n",
       "      <td>Mostly Cloudy</td>\n",
       "      <td>rain</td>\n",
       "      <td>9.377778</td>\n",
       "      <td>0.89</td>\n",
       "      <td>3.9284</td>\n",
       "      <td>14.9569</td>\n",
       "      <td>0.0</td>\n",
       "      <td>1015.94</td>\n",
       "      <td>Partly cloudy throughout the day.</td>\n",
       "    </tr>\n",
       "    <tr>\n",
       "      <th>3</th>\n",
       "      <td>Partly Cloudy</td>\n",
       "      <td>rain</td>\n",
       "      <td>8.288889</td>\n",
       "      <td>0.83</td>\n",
       "      <td>14.1036</td>\n",
       "      <td>15.8263</td>\n",
       "      <td>0.0</td>\n",
       "      <td>1016.41</td>\n",
       "      <td>Partly cloudy throughout the day.</td>\n",
       "    </tr>\n",
       "    <tr>\n",
       "      <th>4</th>\n",
       "      <td>Mostly Cloudy</td>\n",
       "      <td>rain</td>\n",
       "      <td>8.755556</td>\n",
       "      <td>0.83</td>\n",
       "      <td>11.0446</td>\n",
       "      <td>15.8263</td>\n",
       "      <td>0.0</td>\n",
       "      <td>1016.51</td>\n",
       "      <td>Partly cloudy throughout the day.</td>\n",
       "    </tr>\n",
       "  </tbody>\n",
       "</table>\n",
       "</div>"
      ],
      "text/plain": [
       "         Summary Precip Type  Temperature (C)  Humidity  Wind Speed (km/h)  \\\n",
       "0  Partly Cloudy        rain         9.472222      0.89            14.1197   \n",
       "1  Partly Cloudy        rain         9.355556      0.86            14.2646   \n",
       "2  Mostly Cloudy        rain         9.377778      0.89             3.9284   \n",
       "3  Partly Cloudy        rain         8.288889      0.83            14.1036   \n",
       "4  Mostly Cloudy        rain         8.755556      0.83            11.0446   \n",
       "\n",
       "   Visibility (km)  Loud Cover  Pressure (millibars)  \\\n",
       "0          15.8263         0.0               1015.13   \n",
       "1          15.8263         0.0               1015.63   \n",
       "2          14.9569         0.0               1015.94   \n",
       "3          15.8263         0.0               1016.41   \n",
       "4          15.8263         0.0               1016.51   \n",
       "\n",
       "                       Daily Summary  \n",
       "0  Partly cloudy throughout the day.  \n",
       "1  Partly cloudy throughout the day.  \n",
       "2  Partly cloudy throughout the day.  \n",
       "3  Partly cloudy throughout the day.  \n",
       "4  Partly cloudy throughout the day.  "
      ]
     },
     "execution_count": 11,
     "metadata": {},
     "output_type": "execute_result"
    }
   ],
   "source": [
    "dataframe.head()"
   ]
  },
  {
   "cell_type": "markdown",
   "metadata": {},
   "source": [
    "CHECKING HOW MANY UNIQUE ENTRIES ARE THERE IN THE DATASET"
   ]
  },
  {
   "cell_type": "code",
   "execution_count": 12,
   "metadata": {
    "execution": {
     "iopub.execute_input": "2024-12-29T06:08:38.446689Z",
     "iopub.status.busy": "2024-12-29T06:08:38.446284Z",
     "iopub.status.idle": "2024-12-29T06:08:38.461622Z",
     "shell.execute_reply": "2024-12-29T06:08:38.460295Z",
     "shell.execute_reply.started": "2024-12-29T06:08:38.446626Z"
    }
   },
   "outputs": [
    {
     "data": {
      "text/plain": [
       "array(['Partly Cloudy', 'Mostly Cloudy', 'Overcast', 'Foggy',\n",
       "       'Breezy and Mostly Cloudy', 'Clear', 'Breezy and Partly Cloudy',\n",
       "       'Breezy and Overcast', 'Humid and Mostly Cloudy',\n",
       "       'Humid and Partly Cloudy', 'Windy and Foggy', 'Windy and Overcast',\n",
       "       'Breezy and Foggy', 'Windy and Partly Cloudy', 'Breezy',\n",
       "       'Dry and Partly Cloudy', 'Windy and Mostly Cloudy',\n",
       "       'Dangerously Windy and Partly Cloudy', 'Dry', 'Windy',\n",
       "       'Humid and Overcast', 'Light Rain', 'Drizzle', 'Windy and Dry',\n",
       "       'Dry and Mostly Cloudy', 'Breezy and Dry', 'Rain'], dtype=object)"
      ]
     },
     "execution_count": 12,
     "metadata": {},
     "output_type": "execute_result"
    }
   ],
   "source": [
    "dataframe['Summary'].unique()"
   ]
  },
  {
   "cell_type": "code",
   "execution_count": 13,
   "metadata": {
    "execution": {
     "iopub.execute_input": "2024-12-29T06:08:38.463111Z",
     "iopub.status.busy": "2024-12-29T06:08:38.462801Z",
     "iopub.status.idle": "2024-12-29T06:08:38.482322Z",
     "shell.execute_reply": "2024-12-29T06:08:38.481178Z",
     "shell.execute_reply.started": "2024-12-29T06:08:38.463084Z"
    }
   },
   "outputs": [
    {
     "data": {
      "text/plain": [
       "array(['rain', 'snow'], dtype=object)"
      ]
     },
     "execution_count": 13,
     "metadata": {},
     "output_type": "execute_result"
    }
   ],
   "source": [
    "dataframe['Precip Type'].unique()"
   ]
  },
  {
   "cell_type": "code",
   "execution_count": 14,
   "metadata": {
    "execution": {
     "iopub.execute_input": "2024-12-29T06:08:38.484121Z",
     "iopub.status.busy": "2024-12-29T06:08:38.483720Z",
     "iopub.status.idle": "2024-12-29T06:08:38.509309Z",
     "shell.execute_reply": "2024-12-29T06:08:38.508211Z",
     "shell.execute_reply.started": "2024-12-29T06:08:38.484093Z"
    }
   },
   "outputs": [
    {
     "data": {
      "text/plain": [
       "array(['Partly cloudy throughout the day.',\n",
       "       'Mostly cloudy throughout the day.', 'Foggy in the evening.',\n",
       "       'Foggy overnight and breezy in the morning.',\n",
       "       'Overcast throughout the day.', 'Partly cloudy until night.',\n",
       "       'Mostly cloudy until night.',\n",
       "       'Foggy starting overnight continuing until morning.',\n",
       "       'Foggy in the morning.', 'Partly cloudy until evening.',\n",
       "       'Partly cloudy starting in the morning.',\n",
       "       'Mostly cloudy starting overnight continuing until night.',\n",
       "       'Mostly cloudy until evening.',\n",
       "       'Partly cloudy starting in the morning continuing until evening.',\n",
       "       'Partly cloudy starting in the afternoon.',\n",
       "       'Partly cloudy starting overnight.',\n",
       "       'Partly cloudy until morning.',\n",
       "       'Partly cloudy starting overnight continuing until night.',\n",
       "       'Partly cloudy starting in the afternoon continuing until night.',\n",
       "       'Mostly cloudy starting overnight.',\n",
       "       'Partly cloudy until afternoon.',\n",
       "       'Mostly cloudy until night and breezy in the afternoon.',\n",
       "       'Foggy starting in the evening.', 'Foggy throughout the day.',\n",
       "       'Foggy starting in the evening continuing until night.',\n",
       "       'Mostly cloudy until morning.',\n",
       "       'Foggy starting in the morning continuing until evening.',\n",
       "       'Foggy starting overnight continuing until afternoon.',\n",
       "       'Partly cloudy starting in the morning continuing until afternoon.',\n",
       "       'Foggy starting overnight.', 'Foggy until morning.',\n",
       "       'Foggy starting overnight continuing until evening.',\n",
       "       'Foggy starting in the afternoon.',\n",
       "       'Partly cloudy starting overnight continuing until afternoon.',\n",
       "       'Partly cloudy starting in the morning continuing until night.',\n",
       "       'Overcast until night.',\n",
       "       'Mostly cloudy starting overnight continuing until evening.',\n",
       "       'Foggy overnight.', 'Partly cloudy in the morning.',\n",
       "       'Mostly cloudy starting in the morning.',\n",
       "       'Foggy starting in the afternoon continuing until evening.',\n",
       "       'Mostly cloudy until afternoon.',\n",
       "       'Foggy starting overnight continuing until night.',\n",
       "       'Mostly cloudy throughout the day and breezy in the evening.',\n",
       "       'Foggy starting in the morning continuing until afternoon.',\n",
       "       'Partly cloudy in the afternoon.', 'Clear throughout the day.',\n",
       "       'Partly cloudy starting in the afternoon continuing until evening.',\n",
       "       'Partly cloudy overnight.', 'Overcast until evening.',\n",
       "       'Foggy in the morning and breezy starting in the afternoon continuing until night.',\n",
       "       'Breezy starting overnight continuing until afternoon and foggy starting in the morning continuing until evening.',\n",
       "       'Partly cloudy starting overnight continuing until morning.',\n",
       "       'Mostly cloudy throughout the day and breezy in the afternoon.',\n",
       "       'Mostly cloudy starting overnight and breezy in the afternoon.',\n",
       "       'Partly cloudy throughout the day and breezy starting in the morning continuing until night.',\n",
       "       'Mostly cloudy throughout the day and breezy in the morning.',\n",
       "       'Partly cloudy starting in the evening continuing until night.',\n",
       "       'Mostly cloudy until night and breezy starting in the morning continuing until afternoon.',\n",
       "       'Partly cloudy starting in the morning continuing until evening and breezy starting in the morning continuing until afternoon.',\n",
       "       'Partly cloudy throughout the day and breezy starting in the morning continuing until afternoon.',\n",
       "       'Partly cloudy throughout the day and breezy starting in the morning continuing until evening.',\n",
       "       'Foggy until afternoon.',\n",
       "       'Overcast until night and breezy overnight.',\n",
       "       'Breezy until morning and mostly cloudy throughout the day.',\n",
       "       'Mostly cloudy starting in the morning continuing until night.',\n",
       "       'Breezy starting overnight continuing until morning and partly cloudy starting overnight continuing until evening.',\n",
       "       'Partly cloudy in the evening.',\n",
       "       'Mostly cloudy starting overnight continuing until afternoon.',\n",
       "       'Mostly cloudy starting in the morning continuing until afternoon.',\n",
       "       'Mostly cloudy starting in the afternoon.',\n",
       "       'Mostly cloudy starting in the morning continuing until evening.',\n",
       "       'Partly cloudy starting overnight continuing until afternoon and breezy in the afternoon.',\n",
       "       'Partly cloudy starting overnight and breezy in the afternoon.',\n",
       "       'Mostly cloudy starting in the morning and breezy in the evening.',\n",
       "       'Foggy starting in the afternoon continuing until night.',\n",
       "       'Foggy until night.',\n",
       "       'Foggy starting in the morning continuing until night.',\n",
       "       'Foggy until evening.', 'Foggy starting in the morning.',\n",
       "       'Partly cloudy starting overnight continuing until evening.',\n",
       "       'Partly cloudy starting overnight continuing until evening and breezy starting in the morning continuing until evening.',\n",
       "       'Breezy starting overnight continuing until morning and foggy in the evening.',\n",
       "       'Mostly cloudy throughout the day and breezy starting in the morning continuing until evening.',\n",
       "       'Partly cloudy until evening and breezy starting in the morning continuing until afternoon.',\n",
       "       'Mostly cloudy starting in the afternoon continuing until night.',\n",
       "       'Breezy starting overnight continuing until afternoon and mostly cloudy starting overnight continuing until evening.',\n",
       "       'Mostly cloudy throughout the day and windy starting in the morning continuing until evening.',\n",
       "       'Breezy and partly cloudy in the afternoon.',\n",
       "       'Mostly cloudy starting overnight and breezy starting in the morning continuing until afternoon.',\n",
       "       'Partly cloudy until night and breezy starting in the morning continuing until afternoon.',\n",
       "       'Breezy and mostly cloudy overnight.',\n",
       "       'Mostly cloudy throughout the day and breezy overnight.',\n",
       "       'Mostly cloudy throughout the day and breezy starting in the morning continuing until afternoon.',\n",
       "       'Partly cloudy throughout the day and breezy in the morning.',\n",
       "       'Partly cloudy starting in the morning continuing until evening and breezy starting in the afternoon continuing until evening.',\n",
       "       'Partly cloudy throughout the day and breezy starting in the afternoon continuing until evening.',\n",
       "       'Mostly cloudy starting overnight and breezy in the morning.',\n",
       "       'Partly cloudy starting in the afternoon and breezy in the afternoon.',\n",
       "       'Partly cloudy starting in the morning and breezy in the evening.',\n",
       "       'Partly cloudy until evening and breezy in the morning.',\n",
       "       'Partly cloudy starting overnight continuing until evening and breezy starting in the morning continuing until afternoon.',\n",
       "       'Partly cloudy starting overnight continuing until evening and breezy in the evening.',\n",
       "       'Mostly cloudy throughout the day and breezy starting in the evening.',\n",
       "       'Mostly cloudy throughout the day and windy starting in the morning continuing until night.',\n",
       "       'Breezy starting overnight continuing until morning and partly cloudy starting in the morning.',\n",
       "       'Mostly cloudy starting in the morning and breezy overnight.',\n",
       "       'Overcast throughout the day and breezy starting overnight continuing until morning.',\n",
       "       'Partly cloudy throughout the day and breezy in the evening.',\n",
       "       'Mostly cloudy until evening and breezy starting in the morning continuing until afternoon.',\n",
       "       'Mostly cloudy until night and breezy in the evening.',\n",
       "       'Partly cloudy starting in the evening.',\n",
       "       'Overcast starting in the morning.',\n",
       "       'Mostly cloudy starting overnight continuing until evening and breezy starting overnight continuing until morning.',\n",
       "       'Partly cloudy starting overnight continuing until morning and breezy starting in the morning continuing until afternoon.',\n",
       "       'Partly cloudy until evening and breezy starting in the morning continuing until evening.',\n",
       "       'Breezy starting in the morning continuing until afternoon and partly cloudy starting in the morning.',\n",
       "       'Partly cloudy starting in the morning and breezy starting in the afternoon continuing until evening.',\n",
       "       'Mostly cloudy starting overnight continuing until morning.',\n",
       "       'Mostly cloudy throughout the day and breezy starting overnight continuing until afternoon.',\n",
       "       'Breezy starting overnight continuing until morning and foggy overnight.',\n",
       "       'Mostly cloudy throughout the day and breezy starting overnight continuing until morning.',\n",
       "       'Overcast throughout the day and breezy in the morning.',\n",
       "       'Overcast throughout the day and breezy in the evening.',\n",
       "       'Mostly cloudy starting in the morning continuing until night and breezy in the afternoon.',\n",
       "       'Mostly cloudy until night and breezy starting in the evening continuing until night.',\n",
       "       'Partly cloudy until night and breezy in the morning.',\n",
       "       'Partly cloudy until evening and breezy overnight.',\n",
       "       'Partly cloudy starting overnight continuing until night and windy starting in the morning continuing until afternoon.',\n",
       "       'Breezy starting in the morning continuing until afternoon and mostly cloudy starting in the morning.',\n",
       "       'Foggy starting overnight continuing until morning and breezy starting in the evening.',\n",
       "       'Mostly cloudy until night and breezy starting in the afternoon.',\n",
       "       'Foggy in the afternoon.',\n",
       "       'Mostly cloudy until night and breezy starting in the afternoon continuing until night.',\n",
       "       'Foggy starting overnight continuing until morning and breezy starting in the evening continuing until night.',\n",
       "       'Breezy until afternoon and mostly cloudy throughout the day.',\n",
       "       'Mostly cloudy throughout the day and breezy starting in the morning continuing until night.',\n",
       "       'Partly cloudy starting overnight continuing until evening and breezy in the morning.',\n",
       "       'Mostly cloudy starting in the morning and breezy in the afternoon.',\n",
       "       'Mostly cloudy starting overnight continuing until night and breezy starting in the morning continuing until evening.',\n",
       "       'Foggy starting overnight continuing until morning and breezy starting in the morning continuing until afternoon.',\n",
       "       'Mostly cloudy until evening and windy starting in the morning continuing until afternoon.',\n",
       "       'Foggy starting overnight continuing until afternoon and breezy in the morning.',\n",
       "       'Foggy starting in the morning continuing until afternoon and breezy starting in the evening.',\n",
       "       'Partly cloudy starting overnight and breezy starting in the morning continuing until afternoon.',\n",
       "       'Foggy starting overnight continuing until morning and breezy in the afternoon.',\n",
       "       'Mostly cloudy starting overnight and breezy starting in the afternoon continuing until evening.',\n",
       "       'Overcast throughout the day and breezy starting overnight continuing until afternoon.',\n",
       "       'Partly cloudy starting in the morning continuing until evening and breezy in the afternoon.',\n",
       "       'Partly cloudy starting in the morning continuing until night and breezy starting in the afternoon continuing until evening.',\n",
       "       'Mostly cloudy until night and breezy starting in the evening.',\n",
       "       'Breezy in the morning and mostly cloudy starting in the morning.',\n",
       "       'Mostly cloudy until night and breezy starting in the morning continuing until evening.',\n",
       "       'Partly cloudy starting overnight continuing until evening and windy starting in the morning continuing until evening.',\n",
       "       'Breezy in the morning and partly cloudy starting in the evening continuing until night.',\n",
       "       'Partly cloudy overnight and breezy starting in the morning continuing until afternoon.',\n",
       "       'Light rain in the morning.', 'Light rain until morning.',\n",
       "       'Light rain in the morning and afternoon.',\n",
       "       'Partly cloudy starting in the morning continuing until night and breezy starting in the morning continuing until afternoon.',\n",
       "       'Breezy starting in the afternoon continuing until night and mostly cloudy starting in the evening.',\n",
       "       'Mostly cloudy throughout the day and breezy starting in the evening continuing until night.',\n",
       "       'Foggy starting in the afternoon and breezy starting in the afternoon continuing until evening.',\n",
       "       'Breezy and foggy until morning.',\n",
       "       'Mostly cloudy until night and breezy starting overnight continuing until morning.',\n",
       "       'Partly cloudy starting overnight continuing until night and breezy in the morning.',\n",
       "       'Partly cloudy starting overnight continuing until night and breezy in the afternoon.',\n",
       "       'Mostly cloudy starting in the morning and breezy starting in the afternoon continuing until evening.',\n",
       "       'Partly cloudy starting overnight and breezy starting in the evening.',\n",
       "       'Breezy overnight and overcast throughout the day.',\n",
       "       'Partly cloudy until night and breezy in the afternoon.',\n",
       "       'Mostly cloudy starting overnight and breezy starting in the evening.',\n",
       "       'Breezy overnight and partly cloudy until evening.',\n",
       "       'Mostly cloudy starting in the evening.',\n",
       "       'Mostly cloudy throughout the day and breezy starting in the afternoon.',\n",
       "       'Mostly cloudy throughout the day and breezy starting in the afternoon continuing until evening.',\n",
       "       'Mostly cloudy until night and windy starting in the morning continuing until afternoon.',\n",
       "       'Breezy and foggy starting in the evening.',\n",
       "       'Breezy overnight and partly cloudy throughout the day.',\n",
       "       'Overcast throughout the day and breezy starting in the evening.',\n",
       "       'Breezy until evening and foggy in the morning.',\n",
       "       'Breezy overnight and mostly cloudy throughout the day.',\n",
       "       'Partly cloudy until evening and breezy in the afternoon.',\n",
       "       'Partly cloudy starting in the morning and breezy starting in the morning continuing until afternoon.',\n",
       "       'Mostly cloudy until evening and breezy in the evening.',\n",
       "       'Windy in the afternoon.', 'Overcast until morning.',\n",
       "       'Mostly cloudy overnight.',\n",
       "       'Foggy starting in the morning continuing until evening and breezy in the evening.',\n",
       "       'Breezy starting overnight continuing until morning.',\n",
       "       'Breezy starting in the afternoon continuing until evening and foggy starting in the evening.',\n",
       "       'Mostly cloudy until night and breezy overnight.',\n",
       "       'Mostly cloudy starting in the morning and windy in the evening.',\n",
       "       'Partly cloudy throughout the day and windy starting in the morning continuing until afternoon.',\n",
       "       'Breezy until afternoon and overcast throughout the day.',\n",
       "       'Breezy in the morning and foggy in the evening.',\n",
       "       'Breezy starting in the afternoon continuing until evening and foggy in the evening.',\n",
       "       'Breezy starting in the morning continuing until night.',\n",
       "       'Breezy in the morning and mostly cloudy starting in the evening.',\n",
       "       'Mostly cloudy until evening and breezy in the afternoon.',\n",
       "       'Mostly cloudy until night and breezy starting in the afternoon continuing until evening.',\n",
       "       'Mostly cloudy until evening and breezy starting overnight continuing until morning.',\n",
       "       'Overcast throughout the day and breezy in the afternoon.',\n",
       "       'Overcast throughout the day and breezy starting in the morning continuing until evening.',\n",
       "       'Overcast throughout the day and breezy overnight.',\n",
       "       'Overcast starting in the afternoon.',\n",
       "       'Partly cloudy throughout the day and breezy in the afternoon.',\n",
       "       'Light rain starting overnight.',\n",
       "       'Drizzle starting in the evening.', 'Drizzle until morning.',\n",
       "       'Rain throughout the day.', 'Rain until morning.',\n",
       "       'Light rain overnight.', 'Rain until afternoon.'], dtype=object)"
      ]
     },
     "execution_count": 14,
     "metadata": {},
     "output_type": "execute_result"
    }
   ],
   "source": [
    "dataframe['Daily Summary'].unique()"
   ]
  },
  {
   "cell_type": "markdown",
   "metadata": {},
   "source": [
    "PERFORMING ENCODING "
   ]
  },
  {
   "cell_type": "code",
   "execution_count": 15,
   "metadata": {
    "execution": {
     "iopub.execute_input": "2024-12-29T06:08:38.510846Z",
     "iopub.status.busy": "2024-12-29T06:08:38.510436Z",
     "iopub.status.idle": "2024-12-29T06:08:38.597718Z",
     "shell.execute_reply": "2024-12-29T06:08:38.596512Z",
     "shell.execute_reply.started": "2024-12-29T06:08:38.510812Z"
    }
   },
   "outputs": [],
   "source": [
    "from sklearn import preprocessing"
   ]
  },
  {
   "cell_type": "code",
   "execution_count": 16,
   "metadata": {
    "execution": {
     "iopub.execute_input": "2024-12-29T06:08:38.599254Z",
     "iopub.status.busy": "2024-12-29T06:08:38.598775Z",
     "iopub.status.idle": "2024-12-29T06:08:38.604150Z",
     "shell.execute_reply": "2024-12-29T06:08:38.602826Z",
     "shell.execute_reply.started": "2024-12-29T06:08:38.599155Z"
    }
   },
   "outputs": [],
   "source": [
    "label_encoder=preprocessing.LabelEncoder()"
   ]
  },
  {
   "cell_type": "code",
   "execution_count": 17,
   "metadata": {
    "execution": {
     "iopub.execute_input": "2024-12-29T06:08:38.605399Z",
     "iopub.status.busy": "2024-12-29T06:08:38.605143Z",
     "iopub.status.idle": "2024-12-29T06:08:38.639029Z",
     "shell.execute_reply": "2024-12-29T06:08:38.637947Z",
     "shell.execute_reply.started": "2024-12-29T06:08:38.605378Z"
    }
   },
   "outputs": [],
   "source": [
    "dataframe['Precip']=label_encoder.fit_transform(dataframe['Precip Type'])"
   ]
  },
  {
   "cell_type": "code",
   "execution_count": 18,
   "metadata": {
    "execution": {
     "iopub.execute_input": "2024-12-29T06:08:38.644929Z",
     "iopub.status.busy": "2024-12-29T06:08:38.644539Z",
     "iopub.status.idle": "2024-12-29T06:08:38.662686Z",
     "shell.execute_reply": "2024-12-29T06:08:38.661489Z",
     "shell.execute_reply.started": "2024-12-29T06:08:38.644883Z"
    }
   },
   "outputs": [
    {
     "data": {
      "text/plain": [
       "array([0, 1])"
      ]
     },
     "execution_count": 18,
     "metadata": {},
     "output_type": "execute_result"
    }
   ],
   "source": [
    "dataframe['Precip'].unique()"
   ]
  },
  {
   "cell_type": "code",
   "execution_count": 19,
   "metadata": {
    "execution": {
     "iopub.execute_input": "2024-12-29T06:08:38.665849Z",
     "iopub.status.busy": "2024-12-29T06:08:38.665435Z",
     "iopub.status.idle": "2024-12-29T06:08:38.696457Z",
     "shell.execute_reply": "2024-12-29T06:08:38.695349Z",
     "shell.execute_reply.started": "2024-12-29T06:08:38.665816Z"
    }
   },
   "outputs": [],
   "source": [
    "dataframe['dailysummary']=label_encoder.fit_transform(dataframe['Daily Summary'])"
   ]
  },
  {
   "cell_type": "code",
   "execution_count": 20,
   "metadata": {
    "execution": {
     "iopub.execute_input": "2024-12-29T06:08:38.698160Z",
     "iopub.status.busy": "2024-12-29T06:08:38.697770Z",
     "iopub.status.idle": "2024-12-29T06:08:38.716816Z",
     "shell.execute_reply": "2024-12-29T06:08:38.715764Z",
     "shell.execute_reply.started": "2024-12-29T06:08:38.698122Z"
    }
   },
   "outputs": [
    {
     "data": {
      "text/plain": [
       "array([197, 111,  33,  36, 143, 209, 132,  57,  35, 204, 170,  94, 118,\n",
       "       166, 156, 188, 205, 187, 155,  95, 198, 120,  43,  60,  42, 119,\n",
       "        47,  51, 162,  59,  63,  52,  41, 175, 169, 147,  91,  37, 150,\n",
       "        83,  39, 112,  58,  97,  45, 148,  29, 154, 152, 144,  34,  18,\n",
       "       183,  96,  84, 195,  98, 157, 128, 165, 193, 194,  61, 146,  28,\n",
       "        82,  23, 149,  89,  79,  72,  80, 174, 171,  75,  40,  64,  48,\n",
       "        62,  49, 181, 179,  20, 105, 202,  71,  19, 109,   3,  88, 208,\n",
       "         2,  99, 104, 191, 164, 192,  85, 153, 159, 200, 178, 176, 103,\n",
       "       110,  22,  76, 142, 190, 115, 121, 158, 134,  90, 182, 203,  16,\n",
       "       160,  92, 107,  21, 108, 137, 136,  81, 126, 207, 201, 186,  15,\n",
       "        55, 125,  32, 124,  54,  25, 106, 177,  74,  93,  56, 117,  50,\n",
       "        44, 173,  53,  86, 141, 163, 167, 127,   6, 129, 180,   7, 151,\n",
       "        66,  69,  65, 168,  14, 102,  38,   1, 130, 185, 184,  77, 172,\n",
       "         9, 206,  87,  11,  73, 101, 100, 131,   0,  10, 139,  27,   8,\n",
       "       199, 161, 114, 213, 145,  70,  46,  24,  13, 122,  78, 196,  26,\n",
       "         4,  12,  17,   5, 113, 123, 116, 135, 140, 138, 133, 189,  68,\n",
       "        30,  31, 210, 212,  67, 211])"
      ]
     },
     "execution_count": 20,
     "metadata": {},
     "output_type": "execute_result"
    }
   ],
   "source": [
    "dataframe['dailysummary'].unique()"
   ]
  },
  {
   "cell_type": "code",
   "execution_count": 21,
   "metadata": {
    "execution": {
     "iopub.execute_input": "2024-12-29T06:08:38.718765Z",
     "iopub.status.busy": "2024-12-29T06:08:38.718333Z",
     "iopub.status.idle": "2024-12-29T06:08:38.746298Z",
     "shell.execute_reply": "2024-12-29T06:08:38.745206Z",
     "shell.execute_reply.started": "2024-12-29T06:08:38.718726Z"
    }
   },
   "outputs": [],
   "source": [
    "dataframe['summary_sum']=label_encoder.fit_transform(dataframe['Summary'])"
   ]
  },
  {
   "cell_type": "code",
   "execution_count": 22,
   "metadata": {
    "execution": {
     "iopub.execute_input": "2024-12-29T06:08:38.748121Z",
     "iopub.status.busy": "2024-12-29T06:08:38.747643Z",
     "iopub.status.idle": "2024-12-29T06:08:38.766223Z",
     "shell.execute_reply": "2024-12-29T06:08:38.765096Z",
     "shell.execute_reply.started": "2024-12-29T06:08:38.748081Z"
    }
   },
   "outputs": [
    {
     "data": {
      "text/plain": [
       "array([19, 17, 18, 12,  3,  6,  5,  4, 13, 15, 23, 25,  2, 26,  0, 11, 24,\n",
       "        7,  9, 21, 14, 16,  8, 22, 10,  1, 20])"
      ]
     },
     "execution_count": 22,
     "metadata": {},
     "output_type": "execute_result"
    }
   ],
   "source": [
    "dataframe['summary_sum'].unique()"
   ]
  },
  {
   "cell_type": "code",
   "execution_count": 23,
   "metadata": {
    "execution": {
     "iopub.execute_input": "2024-12-29T06:08:38.767796Z",
     "iopub.status.busy": "2024-12-29T06:08:38.767365Z",
     "iopub.status.idle": "2024-12-29T06:08:38.791586Z",
     "shell.execute_reply": "2024-12-29T06:08:38.790295Z",
     "shell.execute_reply.started": "2024-12-29T06:08:38.767755Z"
    }
   },
   "outputs": [],
   "source": [
    "dataframe=dataframe.drop(['Summary','Precip Type','Daily Summary'],axis=1)"
   ]
  },
  {
   "cell_type": "code",
   "execution_count": 24,
   "metadata": {
    "execution": {
     "iopub.execute_input": "2024-12-29T06:08:38.793290Z",
     "iopub.status.busy": "2024-12-29T06:08:38.792931Z",
     "iopub.status.idle": "2024-12-29T06:08:38.808284Z",
     "shell.execute_reply": "2024-12-29T06:08:38.807057Z",
     "shell.execute_reply.started": "2024-12-29T06:08:38.793247Z"
    }
   },
   "outputs": [
    {
     "name": "stdout",
     "output_type": "stream",
     "text": [
      "<class 'pandas.core.frame.DataFrame'>\n",
      "Index: 95936 entries, 0 to 96452\n",
      "Data columns (total 9 columns):\n",
      " #   Column                Non-Null Count  Dtype  \n",
      "---  ------                --------------  -----  \n",
      " 0   Temperature (C)       95936 non-null  float64\n",
      " 1   Humidity              95936 non-null  float64\n",
      " 2   Wind Speed (km/h)     95936 non-null  float64\n",
      " 3   Visibility (km)       95936 non-null  float64\n",
      " 4   Loud Cover            95936 non-null  float64\n",
      " 5   Pressure (millibars)  95936 non-null  float64\n",
      " 6   Precip                95936 non-null  int64  \n",
      " 7   dailysummary          95936 non-null  int64  \n",
      " 8   summary_sum           95936 non-null  int64  \n",
      "dtypes: float64(6), int64(3)\n",
      "memory usage: 7.3 MB\n"
     ]
    }
   ],
   "source": [
    "dataframe.info()"
   ]
  },
  {
   "cell_type": "raw",
   "metadata": {},
   "source": [
    "TRAINING AND TESTING"
   ]
  },
  {
   "cell_type": "code",
   "execution_count": 25,
   "metadata": {
    "execution": {
     "iopub.execute_input": "2024-12-29T06:08:38.809724Z",
     "iopub.status.busy": "2024-12-29T06:08:38.809379Z",
     "iopub.status.idle": "2024-12-29T06:08:38.821047Z",
     "shell.execute_reply": "2024-12-29T06:08:38.819953Z",
     "shell.execute_reply.started": "2024-12-29T06:08:38.809696Z"
    }
   },
   "outputs": [],
   "source": [
    "X  = dataframe.drop('Precip',axis=1)"
   ]
  },
  {
   "cell_type": "code",
   "execution_count": 26,
   "metadata": {
    "execution": {
     "iopub.execute_input": "2024-12-29T06:08:38.822406Z",
     "iopub.status.busy": "2024-12-29T06:08:38.822137Z",
     "iopub.status.idle": "2024-12-29T06:08:38.840402Z",
     "shell.execute_reply": "2024-12-29T06:08:38.839013Z",
     "shell.execute_reply.started": "2024-12-29T06:08:38.822385Z"
    }
   },
   "outputs": [],
   "source": [
    "y = dataframe['Precip'].astype(int)"
   ]
  },
  {
   "cell_type": "code",
   "execution_count": 27,
   "metadata": {
    "execution": {
     "iopub.execute_input": "2024-12-29T06:08:38.842101Z",
     "iopub.status.busy": "2024-12-29T06:08:38.841646Z",
     "iopub.status.idle": "2024-12-29T06:08:38.978925Z",
     "shell.execute_reply": "2024-12-29T06:08:38.977514Z",
     "shell.execute_reply.started": "2024-12-29T06:08:38.842062Z"
    }
   },
   "outputs": [],
   "source": [
    "from sklearn.model_selection import train_test_split"
   ]
  },
  {
   "cell_type": "code",
   "execution_count": 28,
   "metadata": {
    "execution": {
     "iopub.execute_input": "2024-12-29T06:08:38.980647Z",
     "iopub.status.busy": "2024-12-29T06:08:38.980239Z",
     "iopub.status.idle": "2024-12-29T06:08:39.014744Z",
     "shell.execute_reply": "2024-12-29T06:08:39.013380Z",
     "shell.execute_reply.started": "2024-12-29T06:08:38.980606Z"
    }
   },
   "outputs": [],
   "source": [
    "X_train, X_test, y_train, y_test = train_test_split(X,y,test_size=0.20,random_state=42)"
   ]
  },
  {
   "cell_type": "markdown",
   "metadata": {},
   "source": [
    "RANDOM FOREST ALGO"
   ]
  },
  {
   "cell_type": "code",
   "execution_count": 30,
   "metadata": {
    "execution": {
     "iopub.execute_input": "2024-12-29T06:09:22.970835Z",
     "iopub.status.busy": "2024-12-29T06:09:22.970419Z",
     "iopub.status.idle": "2024-12-29T06:09:23.330412Z",
     "shell.execute_reply": "2024-12-29T06:09:23.329550Z",
     "shell.execute_reply.started": "2024-12-29T06:09:22.970801Z"
    }
   },
   "outputs": [],
   "source": [
    "from sklearn.ensemble import RandomForestClassifier\n",
    "classifier = RandomForestClassifier()"
   ]
  },
  {
   "cell_type": "code",
   "execution_count": 31,
   "metadata": {
    "execution": {
     "iopub.execute_input": "2024-12-29T06:09:34.898186Z",
     "iopub.status.busy": "2024-12-29T06:09:34.897842Z",
     "iopub.status.idle": "2024-12-29T06:09:38.378928Z",
     "shell.execute_reply": "2024-12-29T06:09:38.377948Z",
     "shell.execute_reply.started": "2024-12-29T06:09:34.898161Z"
    }
   },
   "outputs": [
    {
     "data": {
      "text/html": [
       "<style>#sk-container-id-1 {color: black;background-color: white;}#sk-container-id-1 pre{padding: 0;}#sk-container-id-1 div.sk-toggleable {background-color: white;}#sk-container-id-1 label.sk-toggleable__label {cursor: pointer;display: block;width: 100%;margin-bottom: 0;padding: 0.3em;box-sizing: border-box;text-align: center;}#sk-container-id-1 label.sk-toggleable__label-arrow:before {content: \"▸\";float: left;margin-right: 0.25em;color: #696969;}#sk-container-id-1 label.sk-toggleable__label-arrow:hover:before {color: black;}#sk-container-id-1 div.sk-estimator:hover label.sk-toggleable__label-arrow:before {color: black;}#sk-container-id-1 div.sk-toggleable__content {max-height: 0;max-width: 0;overflow: hidden;text-align: left;background-color: #f0f8ff;}#sk-container-id-1 div.sk-toggleable__content pre {margin: 0.2em;color: black;border-radius: 0.25em;background-color: #f0f8ff;}#sk-container-id-1 input.sk-toggleable__control:checked~div.sk-toggleable__content {max-height: 200px;max-width: 100%;overflow: auto;}#sk-container-id-1 input.sk-toggleable__control:checked~label.sk-toggleable__label-arrow:before {content: \"▾\";}#sk-container-id-1 div.sk-estimator input.sk-toggleable__control:checked~label.sk-toggleable__label {background-color: #d4ebff;}#sk-container-id-1 div.sk-label input.sk-toggleable__control:checked~label.sk-toggleable__label {background-color: #d4ebff;}#sk-container-id-1 input.sk-hidden--visually {border: 0;clip: rect(1px 1px 1px 1px);clip: rect(1px, 1px, 1px, 1px);height: 1px;margin: -1px;overflow: hidden;padding: 0;position: absolute;width: 1px;}#sk-container-id-1 div.sk-estimator {font-family: monospace;background-color: #f0f8ff;border: 1px dotted black;border-radius: 0.25em;box-sizing: border-box;margin-bottom: 0.5em;}#sk-container-id-1 div.sk-estimator:hover {background-color: #d4ebff;}#sk-container-id-1 div.sk-parallel-item::after {content: \"\";width: 100%;border-bottom: 1px solid gray;flex-grow: 1;}#sk-container-id-1 div.sk-label:hover label.sk-toggleable__label {background-color: #d4ebff;}#sk-container-id-1 div.sk-serial::before {content: \"\";position: absolute;border-left: 1px solid gray;box-sizing: border-box;top: 0;bottom: 0;left: 50%;z-index: 0;}#sk-container-id-1 div.sk-serial {display: flex;flex-direction: column;align-items: center;background-color: white;padding-right: 0.2em;padding-left: 0.2em;position: relative;}#sk-container-id-1 div.sk-item {position: relative;z-index: 1;}#sk-container-id-1 div.sk-parallel {display: flex;align-items: stretch;justify-content: center;background-color: white;position: relative;}#sk-container-id-1 div.sk-item::before, #sk-container-id-1 div.sk-parallel-item::before {content: \"\";position: absolute;border-left: 1px solid gray;box-sizing: border-box;top: 0;bottom: 0;left: 50%;z-index: -1;}#sk-container-id-1 div.sk-parallel-item {display: flex;flex-direction: column;z-index: 1;position: relative;background-color: white;}#sk-container-id-1 div.sk-parallel-item:first-child::after {align-self: flex-end;width: 50%;}#sk-container-id-1 div.sk-parallel-item:last-child::after {align-self: flex-start;width: 50%;}#sk-container-id-1 div.sk-parallel-item:only-child::after {width: 0;}#sk-container-id-1 div.sk-dashed-wrapped {border: 1px dashed gray;margin: 0 0.4em 0.5em 0.4em;box-sizing: border-box;padding-bottom: 0.4em;background-color: white;}#sk-container-id-1 div.sk-label label {font-family: monospace;font-weight: bold;display: inline-block;line-height: 1.2em;}#sk-container-id-1 div.sk-label-container {text-align: center;}#sk-container-id-1 div.sk-container {/* jupyter's `normalize.less` sets `[hidden] { display: none; }` but bootstrap.min.css set `[hidden] { display: none !important; }` so we also need the `!important` here to be able to override the default hidden behavior on the sphinx rendered scikit-learn.org. See: https://github.com/scikit-learn/scikit-learn/issues/21755 */display: inline-block !important;position: relative;}#sk-container-id-1 div.sk-text-repr-fallback {display: none;}</style><div id=\"sk-container-id-1\" class=\"sk-top-container\"><div class=\"sk-text-repr-fallback\"><pre>RandomForestClassifier()</pre><b>In a Jupyter environment, please rerun this cell to show the HTML representation or trust the notebook. <br />On GitHub, the HTML representation is unable to render, please try loading this page with nbviewer.org.</b></div><div class=\"sk-container\" hidden><div class=\"sk-item\"><div class=\"sk-estimator sk-toggleable\"><input class=\"sk-toggleable__control sk-hidden--visually\" id=\"sk-estimator-id-1\" type=\"checkbox\" checked><label for=\"sk-estimator-id-1\" class=\"sk-toggleable__label sk-toggleable__label-arrow\">RandomForestClassifier</label><div class=\"sk-toggleable__content\"><pre>RandomForestClassifier()</pre></div></div></div></div></div>"
      ],
      "text/plain": [
       "RandomForestClassifier()"
      ]
     },
     "execution_count": 31,
     "metadata": {},
     "output_type": "execute_result"
    }
   ],
   "source": [
    "classifier.fit(X=X_train,y=y_train)"
   ]
  },
  {
   "cell_type": "code",
   "execution_count": 32,
   "metadata": {
    "execution": {
     "iopub.execute_input": "2024-12-29T06:09:38.380427Z",
     "iopub.status.busy": "2024-12-29T06:09:38.380139Z",
     "iopub.status.idle": "2024-12-29T06:09:38.509155Z",
     "shell.execute_reply": "2024-12-29T06:09:38.508055Z",
     "shell.execute_reply.started": "2024-12-29T06:09:38.380403Z"
    }
   },
   "outputs": [],
   "source": [
    "test_pred = classifier.predict(X_test)"
   ]
  },
  {
   "cell_type": "code",
   "execution_count": 33,
   "metadata": {
    "execution": {
     "iopub.execute_input": "2024-12-29T06:09:45.562383Z",
     "iopub.status.busy": "2024-12-29T06:09:45.562043Z",
     "iopub.status.idle": "2024-12-29T06:09:45.574572Z",
     "shell.execute_reply": "2024-12-29T06:09:45.573303Z",
     "shell.execute_reply.started": "2024-12-29T06:09:45.562356Z"
    }
   },
   "outputs": [
    {
     "name": "stdout",
     "output_type": "stream",
     "text": [
      "<class 'pandas.core.frame.DataFrame'>\n",
      "Index: 95936 entries, 0 to 96452\n",
      "Data columns (total 8 columns):\n",
      " #   Column                Non-Null Count  Dtype  \n",
      "---  ------                --------------  -----  \n",
      " 0   Temperature (C)       95936 non-null  float64\n",
      " 1   Humidity              95936 non-null  float64\n",
      " 2   Wind Speed (km/h)     95936 non-null  float64\n",
      " 3   Visibility (km)       95936 non-null  float64\n",
      " 4   Loud Cover            95936 non-null  float64\n",
      " 5   Pressure (millibars)  95936 non-null  float64\n",
      " 6   dailysummary          95936 non-null  int64  \n",
      " 7   summary_sum           95936 non-null  int64  \n",
      "dtypes: float64(6), int64(2)\n",
      "memory usage: 6.6 MB\n"
     ]
    }
   ],
   "source": [
    "X.info()"
   ]
  },
  {
   "cell_type": "code",
   "execution_count": 34,
   "metadata": {
    "execution": {
     "iopub.execute_input": "2024-12-29T06:10:14.107871Z",
     "iopub.status.busy": "2024-12-29T06:10:14.107452Z",
     "iopub.status.idle": "2024-12-29T06:10:14.112469Z",
     "shell.execute_reply": "2024-12-29T06:10:14.111362Z",
     "shell.execute_reply.started": "2024-12-29T06:10:14.107837Z"
    }
   },
   "outputs": [],
   "source": [
    "from sklearn.metrics import accuracy_score, confusion_matrix"
   ]
  },
  {
   "cell_type": "code",
   "execution_count": 35,
   "metadata": {
    "execution": {
     "iopub.execute_input": "2024-12-29T06:10:16.749365Z",
     "iopub.status.busy": "2024-12-29T06:10:16.749038Z",
     "iopub.status.idle": "2024-12-29T06:10:16.756781Z",
     "shell.execute_reply": "2024-12-29T06:10:16.755855Z",
     "shell.execute_reply.started": "2024-12-29T06:10:16.749340Z"
    }
   },
   "outputs": [],
   "source": [
    "accuracy = accuracy_score(y_test,test_pred)"
   ]
  },
  {
   "cell_type": "code",
   "execution_count": 39,
   "metadata": {
    "execution": {
     "iopub.execute_input": "2024-12-29T06:10:37.748013Z",
     "iopub.status.busy": "2024-12-29T06:10:37.747620Z",
     "iopub.status.idle": "2024-12-29T06:10:37.752986Z",
     "shell.execute_reply": "2024-12-29T06:10:37.751722Z",
     "shell.execute_reply.started": "2024-12-29T06:10:37.747984Z"
    }
   },
   "outputs": [
    {
     "name": "stdout",
     "output_type": "stream",
     "text": [
      "Accuracy score is 100.0\n"
     ]
    }
   ],
   "source": [
    "print('Accuracy score is ' + str((accuracy * 100 )) )"
   ]
  },
  {
   "cell_type": "code",
   "execution_count": 37,
   "metadata": {
    "execution": {
     "iopub.execute_input": "2024-12-29T06:10:22.229033Z",
     "iopub.status.busy": "2024-12-29T06:10:22.228646Z",
     "iopub.status.idle": "2024-12-29T06:10:22.573366Z",
     "shell.execute_reply": "2024-12-29T06:10:22.572288Z",
     "shell.execute_reply.started": "2024-12-29T06:10:22.229004Z"
    }
   },
   "outputs": [
    {
     "data": {
      "image/png": "[encoded data removed]",
      "text/plain": [
       "<Figure size 1000x600 with 1 Axes>"
      ]
     },
     "metadata": {},
     "output_type": "display_data"
    }
   ],
   "source": [
    "feature_importances = classifier.feature_importances_\n",
    "features = X_train.columns  # Replace with feature names\n",
    "importance_df = pd.DataFrame({'Feature': features, 'Importance': feature_importances}).sort_values(by='Importance', ascending=False)\n",
    "\n",
    "plt.figure(figsize=(10, 6))\n",
    "sns.barplot(x='Importance', y='Feature', data=importance_df, palette='viridis')\n",
    "plt.title('Feature Importance')\n",
    "plt.xlabel('Importance')\n",
    "plt.ylabel('Feature')\n",
    "plt.show()"
   ]
  },
  {
   "cell_type": "code",
   "execution_count": 40,
   "metadata": {
    "execution": {
     "iopub.execute_input": "2024-12-29T06:10:49.508216Z",
     "iopub.status.busy": "2024-12-29T06:10:49.507862Z",
     "iopub.status.idle": "2024-12-29T06:10:49.523485Z",
     "shell.execute_reply": "2024-12-29T06:10:49.521891Z",
     "shell.execute_reply.started": "2024-12-29T06:10:49.508189Z"
    }
   },
   "outputs": [
    {
     "ename": "NameError",
     "evalue": "name 'y_pred' is not defined",
     "output_type": "error",
     "traceback": [
      "\u001b[0;31m---------------------------------------------------------------------------\u001b[0m",
      "\u001b[0;31mNameError\u001b[0m                                 Traceback (most recent call last)",
      "\u001b[0;32m<ipython-input-40-2918e8b92df5>\u001b[0m in \u001b[0;36m<cell line: 1>\u001b[0;34m()\u001b[0m\n\u001b[0;32m----> 1\u001b[0;31m \u001b[0mcm\u001b[0m \u001b[0;34m=\u001b[0m \u001b[0mconfusion_matrix\u001b[0m\u001b[0;34m(\u001b[0m\u001b[0my_test\u001b[0m\u001b[0;34m,\u001b[0m \u001b[0my_pred\u001b[0m\u001b[0;34m)\u001b[0m  \u001b[0;31m# Replace y_pred with predicted classes\u001b[0m\u001b[0;34m\u001b[0m\u001b[0;34m\u001b[0m\u001b[0m\n\u001b[0m\u001b[1;32m      2\u001b[0m \u001b[0;34m\u001b[0m\u001b[0m\n\u001b[1;32m      3\u001b[0m \u001b[0;31m# Use np.unique to get class labels if rf_model.classes_ is not available\u001b[0m\u001b[0;34m\u001b[0m\u001b[0;34m\u001b[0m\u001b[0m\n\u001b[1;32m      4\u001b[0m \u001b[0mclass_labels\u001b[0m \u001b[0;34m=\u001b[0m \u001b[0mnp\u001b[0m\u001b[0;34m.\u001b[0m\u001b[0munique\u001b[0m\u001b[0;34m(\u001b[0m\u001b[0my_train\u001b[0m\u001b[0;34m)\u001b[0m\u001b[0;34m\u001b[0m\u001b[0;34m\u001b[0m\u001b[0m\n\u001b[1;32m      5\u001b[0m \u001b[0;34m\u001b[0m\u001b[0m\n",
      "\u001b[0;31mNameError\u001b[0m: name 'y_pred' is not defined"
     ]
    }
   ],
   "source": [
    "cm = confusion_matrix(y_test, y_pred)  # Replace y_pred with predicted classes\n",
    "\n",
    "# Use np.unique to get class labels if rf_model.classes_ is not available\n",
    "class_labels = np.unique(y_train)\n",
    "\n",
    "# Display confusion matrix\n",
    "disp = ConfusionMatrixDisplay(confusion_matrix=cm, display_labels=class_labels)\n",
    "disp.plot(cmap='Blues')\n",
    "\n",
    "plt.title('Confusion Matrix')\n",
    "plt.show()"
   ]
  },
  {
   "cell_type": "markdown",
   "metadata": {},
   "source": [
    "SAMPLE EXERCISE **for daily summary as data set is large for defining**"
   ]
  },
  {
   "cell_type": "code",
   "execution_count": 41,
   "metadata": {
    "execution": {
     "iopub.execute_input": "2024-12-29T06:11:12.656305Z",
     "iopub.status.busy": "2024-12-29T06:11:12.655986Z",
     "iopub.status.idle": "2024-12-29T06:11:12.669453Z",
     "shell.execute_reply": "2024-12-29T06:11:12.668158Z",
     "shell.execute_reply.started": "2024-12-29T06:11:12.656279Z"
    }
   },
   "outputs": [],
   "source": [
    "from sklearn.pipeline import Pipeline"
   ]
  },
  {
   "cell_type": "code",
   "execution_count": 42,
   "metadata": {
    "execution": {
     "iopub.execute_input": "2024-12-29T06:11:13.705545Z",
     "iopub.status.busy": "2024-12-29T06:11:13.705177Z",
     "iopub.status.idle": "2024-12-29T06:11:13.710088Z",
     "shell.execute_reply": "2024-12-29T06:11:13.708874Z",
     "shell.execute_reply.started": "2024-12-29T06:11:13.705514Z"
    }
   },
   "outputs": [],
   "source": [
    "from sklearn.preprocessing import StandardScaler"
   ]
  },
  {
   "cell_type": "code",
   "execution_count": 43,
   "metadata": {
    "execution": {
     "iopub.execute_input": "2024-12-29T06:11:14.850062Z",
     "iopub.status.busy": "2024-12-29T06:11:14.849712Z",
     "iopub.status.idle": "2024-12-29T06:11:14.854674Z",
     "shell.execute_reply": "2024-12-29T06:11:14.853235Z",
     "shell.execute_reply.started": "2024-12-29T06:11:14.850029Z"
    }
   },
   "outputs": [],
   "source": [
    "from sklearn.ensemble import RandomForestClassifier"
   ]
  },
  {
   "cell_type": "code",
   "execution_count": 44,
   "metadata": {
    "execution": {
     "iopub.execute_input": "2024-12-29T06:11:15.807635Z",
     "iopub.status.busy": "2024-12-29T06:11:15.807311Z",
     "iopub.status.idle": "2024-12-29T06:11:15.812386Z",
     "shell.execute_reply": "2024-12-29T06:11:15.811204Z",
     "shell.execute_reply.started": "2024-12-29T06:11:15.807609Z"
    }
   },
   "outputs": [],
   "source": [
    "pipeline = Pipeline([\n",
    "    ('scaler', StandardScaler()),\n",
    "    ('classifier', RandomForestClassifier(n_estimators=100))\n",
    "])\n"
   ]
  },
  {
   "cell_type": "code",
   "execution_count": 45,
   "metadata": {
    "execution": {
     "iopub.execute_input": "2024-12-29T06:11:17.015289Z",
     "iopub.status.busy": "2024-12-29T06:11:17.014930Z",
     "iopub.status.idle": "2024-12-29T06:11:20.935123Z",
     "shell.execute_reply": "2024-12-29T06:11:20.934060Z",
     "shell.execute_reply.started": "2024-12-29T06:11:17.015258Z"
    }
   },
   "outputs": [
    {
     "data": {
      "text/html": [
       "<style>#sk-container-id-2 {color: black;background-color: white;}#sk-container-id-2 pre{padding: 0;}#sk-container-id-2 div.sk-toggleable {background-color: white;}#sk-container-id-2 label.sk-toggleable__label {cursor: pointer;display: block;width: 100%;margin-bottom: 0;padding: 0.3em;box-sizing: border-box;text-align: center;}#sk-container-id-2 label.sk-toggleable__label-arrow:before {content: \"▸\";float: left;margin-right: 0.25em;color: #696969;}#sk-container-id-2 label.sk-toggleable__label-arrow:hover:before {color: black;}#sk-container-id-2 div.sk-estimator:hover label.sk-toggleable__label-arrow:before {color: black;}#sk-container-id-2 div.sk-toggleable__content {max-height: 0;max-width: 0;overflow: hidden;text-align: left;background-color: #f0f8ff;}#sk-container-id-2 div.sk-toggleable__content pre {margin: 0.2em;color: black;border-radius: 0.25em;background-color: #f0f8ff;}#sk-container-id-2 input.sk-toggleable__control:checked~div.sk-toggleable__content {max-height: 200px;max-width: 100%;overflow: auto;}#sk-container-id-2 input.sk-toggleable__control:checked~label.sk-toggleable__label-arrow:before {content: \"▾\";}#sk-container-id-2 div.sk-estimator input.sk-toggleable__control:checked~label.sk-toggleable__label {background-color: #d4ebff;}#sk-container-id-2 div.sk-label input.sk-toggleable__control:checked~label.sk-toggleable__label {background-color: #d4ebff;}#sk-container-id-2 input.sk-hidden--visually {border: 0;clip: rect(1px 1px 1px 1px);clip: rect(1px, 1px, 1px, 1px);height: 1px;margin: -1px;overflow: hidden;padding: 0;position: absolute;width: 1px;}#sk-container-id-2 div.sk-estimator {font-family: monospace;background-color: #f0f8ff;border: 1px dotted black;border-radius: 0.25em;box-sizing: border-box;margin-bottom: 0.5em;}#sk-container-id-2 div.sk-estimator:hover {background-color: #d4ebff;}#sk-container-id-2 div.sk-parallel-item::after {content: \"\";width: 100%;border-bottom: 1px solid gray;flex-grow: 1;}#sk-container-id-2 div.sk-label:hover label.sk-toggleable__label {background-color: #d4ebff;}#sk-container-id-2 div.sk-serial::before {content: \"\";position: absolute;border-left: 1px solid gray;box-sizing: border-box;top: 0;bottom: 0;left: 50%;z-index: 0;}#sk-container-id-2 div.sk-serial {display: flex;flex-direction: column;align-items: center;background-color: white;padding-right: 0.2em;padding-left: 0.2em;position: relative;}#sk-container-id-2 div.sk-item {position: relative;z-index: 1;}#sk-container-id-2 div.sk-parallel {display: flex;align-items: stretch;justify-content: center;background-color: white;position: relative;}#sk-container-id-2 div.sk-item::before, #sk-container-id-2 div.sk-parallel-item::before {content: \"\";position: absolute;border-left: 1px solid gray;box-sizing: border-box;top: 0;bottom: 0;left: 50%;z-index: -1;}#sk-container-id-2 div.sk-parallel-item {display: flex;flex-direction: column;z-index: 1;position: relative;background-color: white;}#sk-container-id-2 div.sk-parallel-item:first-child::after {align-self: flex-end;width: 50%;}#sk-container-id-2 div.sk-parallel-item:last-child::after {align-self: flex-start;width: 50%;}#sk-container-id-2 div.sk-parallel-item:only-child::after {width: 0;}#sk-container-id-2 div.sk-dashed-wrapped {border: 1px dashed gray;margin: 0 0.4em 0.5em 0.4em;box-sizing: border-box;padding-bottom: 0.4em;background-color: white;}#sk-container-id-2 div.sk-label label {font-family: monospace;font-weight: bold;display: inline-block;line-height: 1.2em;}#sk-container-id-2 div.sk-label-container {text-align: center;}#sk-container-id-2 div.sk-container {/* jupyter's `normalize.less` sets `[hidden] { display: none; }` but bootstrap.min.css set `[hidden] { display: none !important; }` so we also need the `!important` here to be able to override the default hidden behavior on the sphinx rendered scikit-learn.org. See: https://github.com/scikit-learn/scikit-learn/issues/21755 */display: inline-block !important;position: relative;}#sk-container-id-2 div.sk-text-repr-fallback {display: none;}</style><div id=\"sk-container-id-2\" class=\"sk-top-container\"><div class=\"sk-text-repr-fallback\"><pre>Pipeline(steps=[(&#x27;scaler&#x27;, StandardScaler()),\n",
       "                (&#x27;classifier&#x27;, RandomForestClassifier())])</pre><b>In a Jupyter environment, please rerun this cell to show the HTML representation or trust the notebook. <br />On GitHub, the HTML representation is unable to render, please try loading this page with nbviewer.org.</b></div><div class=\"sk-container\" hidden><div class=\"sk-item sk-dashed-wrapped\"><div class=\"sk-label-container\"><div class=\"sk-label sk-toggleable\"><input class=\"sk-toggleable__control sk-hidden--visually\" id=\"sk-estimator-id-2\" type=\"checkbox\" ><label for=\"sk-estimator-id-2\" class=\"sk-toggleable__label sk-toggleable__label-arrow\">Pipeline</label><div class=\"sk-toggleable__content\"><pre>Pipeline(steps=[(&#x27;scaler&#x27;, StandardScaler()),\n",
       "                (&#x27;classifier&#x27;, RandomForestClassifier())])</pre></div></div></div><div class=\"sk-serial\"><div class=\"sk-item\"><div class=\"sk-estimator sk-toggleable\"><input class=\"sk-toggleable__control sk-hidden--visually\" id=\"sk-estimator-id-3\" type=\"checkbox\" ><label for=\"sk-estimator-id-3\" class=\"sk-toggleable__label sk-toggleable__label-arrow\">StandardScaler</label><div class=\"sk-toggleable__content\"><pre>StandardScaler()</pre></div></div></div><div class=\"sk-item\"><div class=\"sk-estimator sk-toggleable\"><input class=\"sk-toggleable__control sk-hidden--visually\" id=\"sk-estimator-id-4\" type=\"checkbox\" ><label for=\"sk-estimator-id-4\" class=\"sk-toggleable__label sk-toggleable__label-arrow\">RandomForestClassifier</label><div class=\"sk-toggleable__content\"><pre>RandomForestClassifier()</pre></div></div></div></div></div></div></div>"
      ],
      "text/plain": [
       "Pipeline(steps=[('scaler', StandardScaler()),\n",
       "                ('classifier', RandomForestClassifier())])"
      ]
     },
     "execution_count": 45,
     "metadata": {},
     "output_type": "execute_result"
    }
   ],
   "source": [
    "pipeline.fit(X_train, y_train)"
   ]
  },
  {
   "cell_type": "code",
   "execution_count": 48,
   "metadata": {
    "execution": {
     "iopub.execute_input": "2024-12-29T06:11:25.819796Z",
     "iopub.status.busy": "2024-12-29T06:11:25.819349Z",
     "iopub.status.idle": "2024-12-29T06:11:25.958073Z",
     "shell.execute_reply": "2024-12-29T06:11:25.957114Z",
     "shell.execute_reply.started": "2024-12-29T06:11:25.819688Z"
    }
   },
   "outputs": [],
   "source": [
    "accuracy = pipeline.score(X_test, y_test)"
   ]
  },
  {
   "cell_type": "code",
   "execution_count": 49,
   "metadata": {
    "execution": {
     "iopub.execute_input": "2024-12-29T06:11:26.307181Z",
     "iopub.status.busy": "2024-12-29T06:11:26.306804Z",
     "iopub.status.idle": "2024-12-29T06:11:26.311894Z",
     "shell.execute_reply": "2024-12-29T06:11:26.310767Z",
     "shell.execute_reply.started": "2024-12-29T06:11:26.307151Z"
    }
   },
   "outputs": [
    {
     "name": "stdout",
     "output_type": "stream",
     "text": [
      "Accuracy: 1.0\n"
     ]
    }
   ],
   "source": [
    "print(f\"Accuracy: {accuracy}\")"
   ]
  },
  {
   "cell_type": "markdown",
   "metadata": {},
   "source": [
    "LINEAR REGRESSION ALGO"
   ]
  },
  {
   "cell_type": "code",
   "execution_count": 50,
   "metadata": {
    "execution": {
     "iopub.execute_input": "2024-12-29T06:11:33.940105Z",
     "iopub.status.busy": "2024-12-29T06:11:33.939694Z",
     "iopub.status.idle": "2024-12-29T06:11:33.944505Z",
     "shell.execute_reply": "2024-12-29T06:11:33.943336Z",
     "shell.execute_reply.started": "2024-12-29T06:11:33.940078Z"
    }
   },
   "outputs": [],
   "source": [
    "from sklearn.linear_model import LinearRegression"
   ]
  },
  {
   "cell_type": "code",
   "execution_count": 51,
   "metadata": {
    "execution": {
     "iopub.execute_input": "2024-12-29T06:11:34.928178Z",
     "iopub.status.busy": "2024-12-29T06:11:34.927798Z",
     "iopub.status.idle": "2024-12-29T06:11:34.932905Z",
     "shell.execute_reply": "2024-12-29T06:11:34.931484Z",
     "shell.execute_reply.started": "2024-12-29T06:11:34.928151Z"
    }
   },
   "outputs": [],
   "source": [
    "from sklearn.model_selection import train_test_split"
   ]
  },
  {
   "cell_type": "code",
   "execution_count": 52,
   "metadata": {
    "execution": {
     "iopub.execute_input": "2024-12-29T06:11:35.885839Z",
     "iopub.status.busy": "2024-12-29T06:11:35.885441Z",
     "iopub.status.idle": "2024-12-29T06:11:35.890203Z",
     "shell.execute_reply": "2024-12-29T06:11:35.889144Z",
     "shell.execute_reply.started": "2024-12-29T06:11:35.885807Z"
    }
   },
   "outputs": [],
   "source": [
    "from sklearn.metrics import mean_squared_error"
   ]
  },
  {
   "cell_type": "code",
   "execution_count": 53,
   "metadata": {
    "execution": {
     "iopub.execute_input": "2024-12-29T06:11:36.946679Z",
     "iopub.status.busy": "2024-12-29T06:11:36.946316Z",
     "iopub.status.idle": "2024-12-29T06:11:36.951239Z",
     "shell.execute_reply": "2024-12-29T06:11:36.950074Z",
     "shell.execute_reply.started": "2024-12-29T06:11:36.946624Z"
    }
   },
   "outputs": [],
   "source": [
    "model = LinearRegression()"
   ]
  },
  {
   "cell_type": "code",
   "execution_count": 54,
   "metadata": {
    "execution": {
     "iopub.execute_input": "2024-12-29T06:11:37.926907Z",
     "iopub.status.busy": "2024-12-29T06:11:37.926489Z",
     "iopub.status.idle": "2024-12-29T06:11:37.983080Z",
     "shell.execute_reply": "2024-12-29T06:11:37.982085Z",
     "shell.execute_reply.started": "2024-12-29T06:11:37.926876Z"
    }
   },
   "outputs": [
    {
     "data": {
      "text/html": [
       "<style>#sk-container-id-3 {color: black;background-color: white;}#sk-container-id-3 pre{padding: 0;}#sk-container-id-3 div.sk-toggleable {background-color: white;}#sk-container-id-3 label.sk-toggleable__label {cursor: pointer;display: block;width: 100%;margin-bottom: 0;padding: 0.3em;box-sizing: border-box;text-align: center;}#sk-container-id-3 label.sk-toggleable__label-arrow:before {content: \"▸\";float: left;margin-right: 0.25em;color: #696969;}#sk-container-id-3 label.sk-toggleable__label-arrow:hover:before {color: black;}#sk-container-id-3 div.sk-estimator:hover label.sk-toggleable__label-arrow:before {color: black;}#sk-container-id-3 div.sk-toggleable__content {max-height: 0;max-width: 0;overflow: hidden;text-align: left;background-color: #f0f8ff;}#sk-container-id-3 div.sk-toggleable__content pre {margin: 0.2em;color: black;border-radius: 0.25em;background-color: #f0f8ff;}#sk-container-id-3 input.sk-toggleable__control:checked~div.sk-toggleable__content {max-height: 200px;max-width: 100%;overflow: auto;}#sk-container-id-3 input.sk-toggleable__control:checked~label.sk-toggleable__label-arrow:before {content: \"▾\";}#sk-container-id-3 div.sk-estimator input.sk-toggleable__control:checked~label.sk-toggleable__label {background-color: #d4ebff;}#sk-container-id-3 div.sk-label input.sk-toggleable__control:checked~label.sk-toggleable__label {background-color: #d4ebff;}#sk-container-id-3 input.sk-hidden--visually {border: 0;clip: rect(1px 1px 1px 1px);clip: rect(1px, 1px, 1px, 1px);height: 1px;margin: -1px;overflow: hidden;padding: 0;position: absolute;width: 1px;}#sk-container-id-3 div.sk-estimator {font-family: monospace;background-color: #f0f8ff;border: 1px dotted black;border-radius: 0.25em;box-sizing: border-box;margin-bottom: 0.5em;}#sk-container-id-3 div.sk-estimator:hover {background-color: #d4ebff;}#sk-container-id-3 div.sk-parallel-item::after {content: \"\";width: 100%;border-bottom: 1px solid gray;flex-grow: 1;}#sk-container-id-3 div.sk-label:hover label.sk-toggleable__label {background-color: #d4ebff;}#sk-container-id-3 div.sk-serial::before {content: \"\";position: absolute;border-left: 1px solid gray;box-sizing: border-box;top: 0;bottom: 0;left: 50%;z-index: 0;}#sk-container-id-3 div.sk-serial {display: flex;flex-direction: column;align-items: center;background-color: white;padding-right: 0.2em;padding-left: 0.2em;position: relative;}#sk-container-id-3 div.sk-item {position: relative;z-index: 1;}#sk-container-id-3 div.sk-parallel {display: flex;align-items: stretch;justify-content: center;background-color: white;position: relative;}#sk-container-id-3 div.sk-item::before, #sk-container-id-3 div.sk-parallel-item::before {content: \"\";position: absolute;border-left: 1px solid gray;box-sizing: border-box;top: 0;bottom: 0;left: 50%;z-index: -1;}#sk-container-id-3 div.sk-parallel-item {display: flex;flex-direction: column;z-index: 1;position: relative;background-color: white;}#sk-container-id-3 div.sk-parallel-item:first-child::after {align-self: flex-end;width: 50%;}#sk-container-id-3 div.sk-parallel-item:last-child::after {align-self: flex-start;width: 50%;}#sk-container-id-3 div.sk-parallel-item:only-child::after {width: 0;}#sk-container-id-3 div.sk-dashed-wrapped {border: 1px dashed gray;margin: 0 0.4em 0.5em 0.4em;box-sizing: border-box;padding-bottom: 0.4em;background-color: white;}#sk-container-id-3 div.sk-label label {font-family: monospace;font-weight: bold;display: inline-block;line-height: 1.2em;}#sk-container-id-3 div.sk-label-container {text-align: center;}#sk-container-id-3 div.sk-container {/* jupyter's `normalize.less` sets `[hidden] { display: none; }` but bootstrap.min.css set `[hidden] { display: none !important; }` so we also need the `!important` here to be able to override the default hidden behavior on the sphinx rendered scikit-learn.org. See: https://github.com/scikit-learn/scikit-learn/issues/21755 */display: inline-block !important;position: relative;}#sk-container-id-3 div.sk-text-repr-fallback {display: none;}</style><div id=\"sk-container-id-3\" class=\"sk-top-container\"><div class=\"sk-text-repr-fallback\"><pre>LinearRegression()</pre><b>In a Jupyter environment, please rerun this cell to show the HTML representation or trust the notebook. <br />On GitHub, the HTML representation is unable to render, please try loading this page with nbviewer.org.</b></div><div class=\"sk-container\" hidden><div class=\"sk-item\"><div class=\"sk-estimator sk-toggleable\"><input class=\"sk-toggleable__control sk-hidden--visually\" id=\"sk-estimator-id-5\" type=\"checkbox\" checked><label for=\"sk-estimator-id-5\" class=\"sk-toggleable__label sk-toggleable__label-arrow\">LinearRegression</label><div class=\"sk-toggleable__content\"><pre>LinearRegression()</pre></div></div></div></div></div>"
      ],
      "text/plain": [
       "LinearRegression()"
      ]
     },
     "execution_count": 54,
     "metadata": {},
     "output_type": "execute_result"
    }
   ],
   "source": [
    "model.fit(X_train, y_train)"
   ]
  },
  {
   "cell_type": "code",
   "execution_count": 55,
   "metadata": {
    "execution": {
     "iopub.execute_input": "2024-12-29T06:11:39.193170Z",
     "iopub.status.busy": "2024-12-29T06:11:39.192820Z",
     "iopub.status.idle": "2024-12-29T06:11:39.202371Z",
     "shell.execute_reply": "2024-12-29T06:11:39.200988Z",
     "shell.execute_reply.started": "2024-12-29T06:11:39.193143Z"
    }
   },
   "outputs": [],
   "source": [
    "predictions = model.predict(X_test)"
   ]
  },
  {
   "cell_type": "code",
   "execution_count": 56,
   "metadata": {
    "execution": {
     "iopub.execute_input": "2024-12-29T06:11:41.641200Z",
     "iopub.status.busy": "2024-12-29T06:11:41.640789Z",
     "iopub.status.idle": "2024-12-29T06:11:41.649148Z",
     "shell.execute_reply": "2024-12-29T06:11:41.648107Z",
     "shell.execute_reply.started": "2024-12-29T06:11:41.641167Z"
    }
   },
   "outputs": [
    {
     "name": "stdout",
     "output_type": "stream",
     "text": [
      "Mean Squared Error: 0.0612740932171047\n"
     ]
    }
   ],
   "source": [
    "print(\"Mean Squared Error:\", mean_squared_error(y_test, predictions))"
   ]
  },
  {
   "cell_type": "code",
   "execution_count": 57,
   "metadata": {
    "execution": {
     "iopub.execute_input": "2024-12-29T06:11:43.067764Z",
     "iopub.status.busy": "2024-12-29T06:11:43.067361Z",
     "iopub.status.idle": "2024-12-29T06:11:44.048586Z",
     "shell.execute_reply": "2024-12-29T06:11:44.047546Z",
     "shell.execute_reply.started": "2024-12-29T06:11:43.067730Z"
    }
   },
   "outputs": [
    {
     "data": {
      "image/png": "[encoded data removed]",
      "text/plain": [
       "<Figure size 600x400 with 1 Axes>"
      ]
     },
     "metadata": {},
     "output_type": "display_data"
    },
    {
     "data": {
      "image/png": "[encoded data removed]",
      "text/plain": [
       "<Figure size 600x400 with 1 Axes>"
      ]
     },
     "metadata": {},
     "output_type": "display_data"
    }
   ],
   "source": [
    "# Scatter plot: Actual vs. Predicted values\n",
    "plt.figure(figsize=(6, 4))\n",
    "plt.scatter(y_test, predictions, color='blue', alpha=0.6, label='Predicted vs Actual')\n",
    "plt.plot([y_test.min(), y_test.max()], [y_test.min(), y_test.max()], 'r--', lw=2, label='Perfect Prediction Line')\n",
    "plt.title('Actual vs Predicted Values')\n",
    "plt.xlabel('Actual Values (y_test)')\n",
    "plt.ylabel('Predicted Values')\n",
    "plt.legend()\n",
    "plt.show()\n",
    "\n",
    "# Residual Plot: Errors (y_test - predictions)\n",
    "residuals = y_test - predictions\n",
    "plt.figure(figsize=(6, 4))\n",
    "plt.scatter(predictions, residuals, color='green', alpha=0.6, label='Residuals')\n",
    "plt.axhline(y=0, color='red', linestyle='--', linewidth=2)\n",
    "plt.title('Residuals Plot')\n",
    "plt.xlabel('Predicted Values')\n",
    "plt.ylabel('Residuals')\n",
    "plt.legend()\n",
    "plt.show()"
   ]
  },
  {
   "cell_type": "markdown",
   "metadata": {},
   "source": [
    "DECISION TREE CLASSIFIER ALGO"
   ]
  },
  {
   "cell_type": "code",
   "execution_count": null,
   "metadata": {
    "execution": {
     "iopub.status.busy": "2024-12-29T06:08:39.379439Z",
     "iopub.status.idle": "2024-12-29T06:08:39.379864Z",
     "shell.execute_reply": "2024-12-29T06:08:39.379631Z"
    }
   },
   "outputs": [],
   "source": [
    "from sklearn.tree import DecisionTreeClassifier"
   ]
  },
  {
   "cell_type": "code",
   "execution_count": null,
   "metadata": {
    "execution": {
     "iopub.status.busy": "2024-12-29T06:08:39.380769Z",
     "iopub.status.idle": "2024-12-29T06:08:39.381155Z",
     "shell.execute_reply": "2024-12-29T06:08:39.381016Z"
    }
   },
   "outputs": [],
   "source": [
    "from sklearn.datasets import load_iris"
   ]
  },
  {
   "cell_type": "code",
   "execution_count": null,
   "metadata": {
    "execution": {
     "iopub.status.busy": "2024-12-29T06:08:39.381833Z",
     "iopub.status.idle": "2024-12-29T06:08:39.382153Z",
     "shell.execute_reply": "2024-12-29T06:08:39.382030Z"
    }
   },
   "outputs": [],
   "source": [
    "from sklearn.tree import plot_tree"
   ]
  },
  {
   "cell_type": "code",
   "execution_count": null,
   "metadata": {
    "execution": {
     "iopub.status.busy": "2024-12-29T06:08:39.383003Z",
     "iopub.status.idle": "2024-12-29T06:08:39.383391Z",
     "shell.execute_reply": "2024-12-29T06:08:39.383210Z"
    }
   },
   "outputs": [],
   "source": [
    "import matplotlib.pyplot as plt"
   ]
  },
  {
   "cell_type": "code",
   "execution_count": null,
   "metadata": {
    "execution": {
     "iopub.status.busy": "2024-12-29T06:08:39.384352Z",
     "iopub.status.idle": "2024-12-29T06:08:39.384718Z",
     "shell.execute_reply": "2024-12-29T06:08:39.384556Z"
    }
   },
   "outputs": [],
   "source": [
    "tree_model = DecisionTreeClassifier(max_depth=3, random_state=42)"
   ]
  },
  {
   "cell_type": "code",
   "execution_count": null,
   "metadata": {
    "execution": {
     "iopub.status.busy": "2024-12-29T06:08:39.385603Z",
     "iopub.status.idle": "2024-12-29T06:08:39.386040Z",
     "shell.execute_reply": "2024-12-29T06:08:39.385869Z"
    }
   },
   "outputs": [],
   "source": [
    "tree_model.fit(X, y)"
   ]
  },
  {
   "cell_type": "code",
   "execution_count": null,
   "metadata": {
    "execution": {
     "iopub.status.busy": "2024-12-29T06:08:39.386839Z",
     "iopub.status.idle": "2024-12-29T06:08:39.387152Z",
     "shell.execute_reply": "2024-12-29T06:08:39.387030Z"
    }
   },
   "outputs": [],
   "source": [
    "plt.figure(figsize=(10, 8))"
   ]
  },
  {
   "cell_type": "code",
   "execution_count": null,
   "metadata": {
    "execution": {
     "iopub.status.busy": "2024-12-29T06:08:39.387917Z",
     "iopub.status.idle": "2024-12-29T06:08:39.388240Z",
     "shell.execute_reply": "2024-12-29T06:08:39.388103Z"
    }
   },
   "outputs": [],
   "source": [
    "plot_tree(\n",
    "    tree_model,\n",
    "    feature_names=dataframe.Humidity.astype(str).tolist(),  # Convert to strings\n",
    "    class_names=dataframe.Humidity.astype(str).tolist(),   # Convert to strings\n",
    "    filled=True\n",
    ")"
   ]
  },
  {
   "cell_type": "code",
   "execution_count": null,
   "metadata": {
    "execution": {
     "iopub.status.busy": "2024-12-29T06:08:39.389356Z",
     "iopub.status.idle": "2024-12-29T06:08:39.389733Z",
     "shell.execute_reply": "2024-12-29T06:08:39.389562Z"
    }
   },
   "outputs": [],
   "source": [
    "plt.show()"
   ]
  },
  {
   "cell_type": "code",
   "execution_count": null,
   "metadata": {
    "execution": {
     "iopub.status.busy": "2024-12-29T06:08:39.390920Z",
     "iopub.status.idle": "2024-12-29T06:08:39.391279Z",
     "shell.execute_reply": "2024-12-29T06:08:39.391154Z"
    }
   },
   "outputs": [],
   "source": [
    "from sklearn.ensemble import RandomForestClassifier\n",
    "from sklearn.tree import plot_tree\n",
    "import matplotlib.pyplot as plt\n",
    "\n",
    "# Fit the RandomForest model\n",
    "classifier = RandomForestClassifier()\n",
    "classifier.fit(X_train, y_train)\n",
    "\n",
    "# Plot one of the decision trees in the Random Forest\n",
    "plt.figure(figsize=(20, 10))\n",
    "plot_tree(classifier.estimators_[0], feature_names=X_train.columns, filled=True, rounded=True)\n",
    "plt.title('Decision Tree Visualization')\n",
    "plt.show()"
   ]
  },
  {
   "cell_type": "markdown",
   "metadata": {},
   "source": [
    "Support Vector Machines (SVM) algo"
   ]
  },
  {
   "cell_type": "code",
   "execution_count": null,
   "metadata": {
    "execution": {
     "iopub.status.busy": "2024-12-29T06:08:39.392045Z",
     "iopub.status.idle": "2024-12-29T06:08:39.392421Z",
     "shell.execute_reply": "2024-12-29T06:08:39.392234Z"
    }
   },
   "outputs": [],
   "source": [
    "from sklearn.svm import SVC"
   ]
  },
  {
   "cell_type": "code",
   "execution_count": null,
   "metadata": {
    "execution": {
     "iopub.status.busy": "2024-12-29T06:08:39.393428Z",
     "iopub.status.idle": "2024-12-29T06:08:39.393803Z",
     "shell.execute_reply": "2024-12-29T06:08:39.393620Z"
    }
   },
   "outputs": [],
   "source": [
    "from sklearn.datasets import make_classification"
   ]
  },
  {
   "cell_type": "code",
   "execution_count": null,
   "metadata": {
    "execution": {
     "iopub.status.busy": "2024-12-29T06:08:39.394811Z",
     "iopub.status.idle": "2024-12-29T06:08:39.395202Z",
     "shell.execute_reply": "2024-12-29T06:08:39.395012Z"
    }
   },
   "outputs": [],
   "source": [
    "from sklearn.model_selection import train_test_split"
   ]
  },
  {
   "cell_type": "code",
   "execution_count": null,
   "metadata": {
    "execution": {
     "iopub.status.busy": "2024-12-29T06:08:39.396429Z",
     "iopub.status.idle": "2024-12-29T06:08:39.396849Z",
     "shell.execute_reply": "2024-12-29T06:08:39.396624Z"
    }
   },
   "outputs": [],
   "source": [
    "from sklearn.metrics import classification_report"
   ]
  },
  {
   "cell_type": "code",
   "execution_count": null,
   "metadata": {
    "execution": {
     "iopub.status.busy": "2024-12-29T06:08:39.397836Z",
     "iopub.status.idle": "2024-12-29T06:08:39.398204Z",
     "shell.execute_reply": "2024-12-29T06:08:39.398043Z"
    }
   },
   "outputs": [],
   "source": [
    "svm_model = SVC(kernel='linear', random_state=42)"
   ]
  },
  {
   "cell_type": "code",
   "execution_count": null,
   "metadata": {
    "execution": {
     "iopub.status.busy": "2024-12-29T06:08:39.399258Z",
     "iopub.status.idle": "2024-12-29T06:08:39.399585Z",
     "shell.execute_reply": "2024-12-29T06:08:39.399458Z"
    }
   },
   "outputs": [],
   "source": [
    "svm_model.fit(X_train, y_train)"
   ]
  },
  {
   "cell_type": "code",
   "execution_count": null,
   "metadata": {
    "execution": {
     "iopub.status.busy": "2024-12-29T06:08:39.400428Z",
     "iopub.status.idle": "2024-12-29T06:08:39.400844Z",
     "shell.execute_reply": "2024-12-29T06:08:39.400621Z"
    }
   },
   "outputs": [],
   "source": [
    "y_pred = svm_model.predict(X_test)"
   ]
  },
  {
   "cell_type": "code",
   "execution_count": null,
   "metadata": {
    "execution": {
     "iopub.status.busy": "2024-12-29T06:08:39.401530Z",
     "iopub.status.idle": "2024-12-29T06:08:39.401913Z",
     "shell.execute_reply": "2024-12-29T06:08:39.401788Z"
    }
   },
   "outputs": [],
   "source": [
    "print(classification_report(y_test, y_pred))"
   ]
  },
  {
   "cell_type": "code",
   "execution_count": null,
   "metadata": {
    "execution": {
     "iopub.status.busy": "2024-12-29T06:08:39.402948Z",
     "iopub.status.idle": "2024-12-29T06:08:39.403330Z",
     "shell.execute_reply": "2024-12-29T06:08:39.403141Z"
    }
   },
   "outputs": [],
   "source": [
    "import numpy as np\n",
    "import matplotlib.pyplot as plt\n",
    "from sklearn.svm import SVC\n",
    "from sklearn.metrics import classification_report\n",
    "from sklearn.model_selection import train_test_split\n",
    "from sklearn.preprocessing import StandardScaler\n",
    "\n",
    "# Assuming your data is in a DataFrame called 'dataframe'\n",
    "# Columns: Temperature (C), Humidity, etc. You must use the actual features and target variable\n",
    "\n",
    "# Select features and target\n",
    "X = dataframe[['Temperature (C)', 'Humidity']].values  # Use two features for visualization\n",
    "y = dataframe['Precip'].values  # Target variable (e.g., Precip)\n",
    "\n",
    "# Split the dataset\n",
    "X_train, X_test, y_train, y_test = train_test_split(X, y, test_size=0.2, random_state=42)\n",
    "\n",
    "# Scale the data\n",
    "scaler = StandardScaler()\n",
    "X_train = scaler.fit_transform(X_train)\n",
    "X_test = scaler.transform(X_test)\n",
    "\n",
    "# Train SVM model\n",
    "svm_model = SVC(kernel='linear', random_state=42)\n",
    "svm_model.fit(X_train, y_train)\n",
    "\n",
    "# Make predictions and print classification report\n",
    "y_pred = svm_model.predict(X_test)\n",
    "print(classification_report(y_test, y_pred))\n",
    "\n",
    "# Create a mesh grid for visualization\n",
    "x_min, x_max = X_train[:, 0].min() - 1, X_train[:, 0].max() + 1\n",
    "y_min, y_max = X_train[:, 1].min() - 1, X_train[:, 1].max() + 1\n",
    "xx, yy = np.meshgrid(np.arange(x_min, x_max, 0.01),\n",
    "                     np.arange(y_min, y_max, 0.01))\n",
    "\n",
    "# Predict on the mesh grid\n",
    "Z = svm_model.predict(np.c_[xx.ravel(), yy.ravel()])\n",
    "Z = Z.reshape(xx.shape)\n",
    "\n",
    "# Plot the decision boundary\n",
    "plt.figure(figsize=(10, 8))\n",
    "plt.contourf(xx, yy, Z, alpha=0.8, cmap=plt.cm.coolwarm)\n",
    "plt.scatter(X_train[:, 0], X_train[:, 1], c=y_train, edgecolor='k', s=20, cmap=plt.cm.coolwarm)\n",
    "plt.title(\"SVM Decision Boundary\")\n",
    "plt.xlabel(\"Temperature (C)\")\n",
    "plt.ylabel(\"Humidity\")\n",
    "plt.show()"
   ]
  },
  {
   "cell_type": "markdown",
   "metadata": {},
   "source": [
    "TESTING THE MODEL"
   ]
  },
  {
   "cell_type": "code",
   "execution_count": 58,
   "metadata": {
    "execution": {
     "iopub.execute_input": "2024-12-29T06:21:01.937034Z",
     "iopub.status.busy": "2024-12-29T06:21:01.936600Z",
     "iopub.status.idle": "2024-12-29T06:21:01.952064Z",
     "shell.execute_reply": "2024-12-29T06:21:01.950826Z",
     "shell.execute_reply.started": "2024-12-29T06:21:01.937001Z"
    }
   },
   "outputs": [
    {
     "name": "stderr",
     "output_type": "stream",
     "text": [
      "/usr/local/lib/python3.10/dist-packages/sklearn/base.py:439: UserWarning: X does not have valid feature names, but RandomForestClassifier was fitted with feature names\n",
      "  warnings.warn(\n"
     ]
    }
   ],
   "source": [
    "test_pred = classifier.predict(np.array([[-1.244444,-1.244444,0.99,2.4955,291.0,1012,1,7]]))"
   ]
  },
  {
   "cell_type": "code",
   "execution_count": 59,
   "metadata": {
    "execution": {
     "iopub.execute_input": "2024-12-29T06:21:05.874270Z",
     "iopub.status.busy": "2024-12-29T06:21:05.873909Z",
     "iopub.status.idle": "2024-12-29T06:21:05.880700Z",
     "shell.execute_reply": "2024-12-29T06:21:05.879547Z",
     "shell.execute_reply.started": "2024-12-29T06:21:05.874244Z"
    }
   },
   "outputs": [
    {
     "data": {
      "text/plain": [
       "array([1])"
      ]
     },
     "execution_count": 59,
     "metadata": {},
     "output_type": "execute_result"
    }
   ],
   "source": [
    "test_pred"
   ]
  },
  {
   "cell_type": "code",
   "execution_count": null,
   "metadata": {
    "execution": {
     "iopub.status.busy": "2024-12-29T06:08:39.406686Z",
     "iopub.status.idle": "2024-12-29T06:08:39.407075Z",
     "shell.execute_reply": "2024-12-29T06:08:39.406942Z"
    }
   },
   "outputs": [],
   "source": [
    "print(X_train.shape)\n",
    "print(y_train.shape)"
   ]
  },
  {
   "cell_type": "code",
   "execution_count": null,
   "metadata": {
    "execution": {
     "iopub.status.busy": "2024-12-29T06:08:39.407903Z",
     "iopub.status.idle": "2024-12-29T06:08:39.408212Z",
     "shell.execute_reply": "2024-12-29T06:08:39.408090Z"
    }
   },
   "outputs": [],
   "source": [
    "print(X_test.shape)\n",
    "print(y_test.shape)"
   ]
  },
  {
   "cell_type": "code",
   "execution_count": null,
   "metadata": {
    "execution": {
     "iopub.status.busy": "2024-12-29T06:08:39.409202Z",
     "iopub.status.idle": "2024-12-29T06:08:39.409581Z",
     "shell.execute_reply": "2024-12-29T06:08:39.409432Z"
    }
   },
   "outputs": [],
   "source": [
    "y_test.shape"
   ]
  },
  {
   "cell_type": "code",
   "execution_count": null,
   "metadata": {
    "execution": {
     "iopub.status.busy": "2024-12-29T06:08:39.410690Z",
     "iopub.status.idle": "2024-12-29T06:08:39.411041Z",
     "shell.execute_reply": "2024-12-29T06:08:39.410915Z"
    }
   },
   "outputs": [],
   "source": [
    "test_pred = classifier.predict(X_test)"
   ]
  },
  {
   "cell_type": "code",
   "execution_count": null,
   "metadata": {
    "execution": {
     "iopub.status.busy": "2024-12-29T06:08:39.411879Z",
     "iopub.status.idle": "2024-12-29T06:08:39.412271Z",
     "shell.execute_reply": "2024-12-29T06:08:39.412083Z"
    }
   },
   "outputs": [],
   "source": [
    "print(\"Mean Squared Error:\", mean_squared_error(y_test, test_pred))"
   ]
  },
  {
   "cell_type": "markdown",
   "metadata": {},
   "source": [
    "CONFUSSION MATRIX "
   ]
  },
  {
   "cell_type": "code",
   "execution_count": null,
   "metadata": {
    "execution": {
     "iopub.status.busy": "2024-12-29T06:08:39.413214Z",
     "iopub.status.idle": "2024-12-29T06:08:39.413536Z",
     "shell.execute_reply": "2024-12-29T06:08:39.413402Z"
    }
   },
   "outputs": [],
   "source": [
    "cm = confusion_matrix(y_test, y_pred)"
   ]
  },
  {
   "cell_type": "code",
   "execution_count": null,
   "metadata": {
    "execution": {
     "iopub.status.busy": "2024-12-29T06:08:39.414818Z",
     "iopub.status.idle": "2024-12-29T06:08:39.415175Z",
     "shell.execute_reply": "2024-12-29T06:08:39.415050Z"
    }
   },
   "outputs": [],
   "source": [
    "print(\"Confusion Matrix:\\n\", cm)"
   ]
  },
  {
   "cell_type": "code",
   "execution_count": null,
   "metadata": {
    "execution": {
     "iopub.status.busy": "2024-12-29T06:08:39.416123Z",
     "iopub.status.idle": "2024-12-29T06:08:39.416513Z",
     "shell.execute_reply": "2024-12-29T06:08:39.416329Z"
    }
   },
   "outputs": [],
   "source": [
    "plt.figure(figsize=(8,6))\n",
    "sns.heatmap(cm, annot=True, fmt='d', cmap='Blues', xticklabels=['Negative', 'Positive'], yticklabels=['Negative', 'Positive'])\n",
    "plt.xlabel('Predicted')\n",
    "plt.ylabel('Actual')\n",
    "plt.title('Confusion Matrix')\n",
    "plt.show()\n"
   ]
  },
  {
   "cell_type": "code",
   "execution_count": null,
   "metadata": {
    "execution": {
     "iopub.status.busy": "2024-12-29T06:08:39.417396Z",
     "iopub.status.idle": "2024-12-29T06:08:39.417790Z",
     "shell.execute_reply": "2024-12-29T06:08:39.417601Z"
    }
   },
   "outputs": [],
   "source": [
    "print(\"\\nAccuracy:\", accuracy_score(y_test, y_pred))\n",
    "print(\"\\nClassification Report:\\n\", classification_report(y_test, y_pred))\n"
   ]
  },
  {
   "cell_type": "markdown",
   "metadata": {},
   "source": [
    "ENSEMBLE METHODS"
   ]
  },
  {
   "cell_type": "markdown",
   "metadata": {},
   "source": []
  },
  {
   "cell_type": "code",
   "execution_count": null,
   "metadata": {
    "execution": {
     "iopub.status.busy": "2024-12-29T06:08:39.418541Z",
     "iopub.status.idle": "2024-12-29T06:08:39.418963Z",
     "shell.execute_reply": "2024-12-29T06:08:39.418756Z"
    }
   },
   "outputs": [],
   "source": [
    "from sklearn.ensemble import VotingClassifier\n",
    "from sklearn.metrics import accuracy_score, classification_report\n",
    "\n",
    "# Step 1: Define the ensemble using hard voting\n",
    "# (We assume rf_model and svc_model are your pre-trained Random Forest and SVC models)\n",
    "ensemble_model = VotingClassifier(\n",
    "    estimators=[('RandomForest', classifier), ('SVC', svm_model)],\n",
    "    voting='hard'  # Use 'hard' for majority voting\n",
    ")\n",
    "\n",
    "# Step 2: Fit the ensemble model\n",
    "# Even though the individual models are pre-trained, the VotingClassifier must still be fitted\n",
    "ensemble_model.fit(X_train, y_train)\n",
    "\n",
    "# Step 3: Make predictions on the test data\n",
    "y_pred = ensemble_model.predict(X_test)\n",
    "\n",
    "# Step 4: Evaluate the ensemble model\n",
    "print(\"Ensemble Model Accuracy:\", accuracy_score(y_test, y_pred))\n",
    "print(\"\\nClassification Report:\\n\", classification_report(y_test, y_pred))\n",
    "\n",
    "# (Optional) Print a few predictions\n",
    "print(\"Sample Test Predictions:\", y_pred[:10])"
   ]
  },
  {
   "cell_type": "code",
   "execution_count": null,
   "metadata": {},
   "outputs": [],
   "source": []
  }
 ],
 "metadata": {
  "kaggle": {
   "accelerator": "none",
   "dataSources": [
    {
     "datasetId": 6369930,
     "sourceId": 10292554,
     "sourceType": "datasetVersion"
    }
   ],
   "dockerImageVersionId": 30822,
   "isGpuEnabled": false,
   "isInternetEnabled": false,
   "language": "python",
   "sourceType": "notebook"
  },
  "kernelspec": {
   "display_name": "Python 3 (ipykernel)",
   "language": "python",
   "name": "python3"
  },
  "language_info": {
   "codemirror_mode": {
    "name": "ipython",
    "version": 3
   },
   "file_extension": ".py",
   "mimetype": "text/x-python",
   "name": "python",
   "nbconvert_exporter": "python",
   "pygments_lexer": "ipython3",
   "version": "3.13.2"
  }
 },
 "nbformat": 4,
 "nbformat_minor": 4
}
